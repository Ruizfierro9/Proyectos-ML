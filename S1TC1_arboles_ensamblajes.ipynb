{
 "cells": [
  {
   "cell_type": "markdown",
   "metadata": {},
   "source": [
    "![image info](https://raw.githubusercontent.com/albahnsen/MIAD_ML_and_NLP/main/images/banner_1.png)"
   ]
  },
  {
   "cell_type": "markdown",
   "metadata": {},
   "source": [
    "# Taller: Construcción e implementación de árboles de decisión y métodos de ensamblaje\n",
    "\n",
    "En este taller podrá poner en práctica los sus conocimientos sobre construcción e implementación de árboles de decisión y métodos de ensamblajes. El taller está constituido por 9 puntos, 5 relacionados con árboles de decisión (parte A) y 4 con métodos de ensamblaje (parte B)."
   ]
  },
  {
   "cell_type": "markdown",
   "metadata": {},
   "source": [
    "## Parte A - Árboles de decisión\n",
    "\n",
    "En esta parte del taller se usará el conjunto de datos de Capital Bikeshare de Kaggle, donde cada observación representa el alquiler de bicicletas durante una hora y día determinado. Para más detalles puede visitar los siguientes enlaces: [datos](https://archive.ics.uci.edu/ml/machine-learning-databases/00275/Bike-Sharing-Dataset.zip), [dicccionario de datos](https://archive.ics.uci.edu/ml/datasets/Bike+Sharing+Dataset#)."
   ]
  },
  {
   "cell_type": "markdown",
   "metadata": {},
   "source": [
    "### Datos prestamo de bicicletas"
   ]
  },
  {
   "cell_type": "code",
   "execution_count": 1,
   "metadata": {},
   "outputs": [],
   "source": [
    "import warnings\n",
    "warnings.filterwarnings('ignore')"
   ]
  },
  {
   "cell_type": "code",
   "execution_count": 90,
   "metadata": {},
   "outputs": [],
   "source": [
    "# Importación de librerías\n",
    "%matplotlib inline\n",
    "import pandas as pd\n",
    "import numpy as np\n",
    "from sklearn.model_selection import cross_val_score\n",
    "from sklearn.linear_model import LinearRegression\n",
    "from sklearn.tree import DecisionTreeRegressor, export_graphviz\n",
    "import matplotlib.pyplot as plt\n",
    "from sklearn.model_selection import train_test_split\n",
    "from sklearn.metrics import mean_squared_error\n",
    "from sklearn.linear_model import LogisticRegression\n",
    "from sklearn.metrics import accuracy_score, f1_score\n",
    "from sklearn.tree import DecisionTreeClassifier\n",
    "from sklearn.ensemble import BaggingClassifier"
   ]
  },
  {
   "cell_type": "code",
   "execution_count": 3,
   "metadata": {},
   "outputs": [
    {
     "data": {
      "text/html": [
       "<div>\n",
       "<style scoped>\n",
       "    .dataframe tbody tr th:only-of-type {\n",
       "        vertical-align: middle;\n",
       "    }\n",
       "\n",
       "    .dataframe tbody tr th {\n",
       "        vertical-align: top;\n",
       "    }\n",
       "\n",
       "    .dataframe thead th {\n",
       "        text-align: right;\n",
       "    }\n",
       "</style>\n",
       "<table border=\"1\" class=\"dataframe\">\n",
       "  <thead>\n",
       "    <tr style=\"text-align: right;\">\n",
       "      <th></th>\n",
       "      <th>season</th>\n",
       "      <th>holiday</th>\n",
       "      <th>workingday</th>\n",
       "      <th>weather</th>\n",
       "      <th>temp</th>\n",
       "      <th>atemp</th>\n",
       "      <th>humidity</th>\n",
       "      <th>windspeed</th>\n",
       "      <th>casual</th>\n",
       "      <th>registered</th>\n",
       "      <th>total</th>\n",
       "      <th>hour</th>\n",
       "    </tr>\n",
       "    <tr>\n",
       "      <th>datetime</th>\n",
       "      <th></th>\n",
       "      <th></th>\n",
       "      <th></th>\n",
       "      <th></th>\n",
       "      <th></th>\n",
       "      <th></th>\n",
       "      <th></th>\n",
       "      <th></th>\n",
       "      <th></th>\n",
       "      <th></th>\n",
       "      <th></th>\n",
       "      <th></th>\n",
       "    </tr>\n",
       "  </thead>\n",
       "  <tbody>\n",
       "    <tr>\n",
       "      <th>2011-01-01 00:00:00</th>\n",
       "      <td>1</td>\n",
       "      <td>0</td>\n",
       "      <td>0</td>\n",
       "      <td>1</td>\n",
       "      <td>9.84</td>\n",
       "      <td>14.395</td>\n",
       "      <td>81</td>\n",
       "      <td>0.0</td>\n",
       "      <td>3</td>\n",
       "      <td>13</td>\n",
       "      <td>16</td>\n",
       "      <td>0</td>\n",
       "    </tr>\n",
       "    <tr>\n",
       "      <th>2011-01-01 01:00:00</th>\n",
       "      <td>1</td>\n",
       "      <td>0</td>\n",
       "      <td>0</td>\n",
       "      <td>1</td>\n",
       "      <td>9.02</td>\n",
       "      <td>13.635</td>\n",
       "      <td>80</td>\n",
       "      <td>0.0</td>\n",
       "      <td>8</td>\n",
       "      <td>32</td>\n",
       "      <td>40</td>\n",
       "      <td>1</td>\n",
       "    </tr>\n",
       "    <tr>\n",
       "      <th>2011-01-01 02:00:00</th>\n",
       "      <td>1</td>\n",
       "      <td>0</td>\n",
       "      <td>0</td>\n",
       "      <td>1</td>\n",
       "      <td>9.02</td>\n",
       "      <td>13.635</td>\n",
       "      <td>80</td>\n",
       "      <td>0.0</td>\n",
       "      <td>5</td>\n",
       "      <td>27</td>\n",
       "      <td>32</td>\n",
       "      <td>2</td>\n",
       "    </tr>\n",
       "    <tr>\n",
       "      <th>2011-01-01 03:00:00</th>\n",
       "      <td>1</td>\n",
       "      <td>0</td>\n",
       "      <td>0</td>\n",
       "      <td>1</td>\n",
       "      <td>9.84</td>\n",
       "      <td>14.395</td>\n",
       "      <td>75</td>\n",
       "      <td>0.0</td>\n",
       "      <td>3</td>\n",
       "      <td>10</td>\n",
       "      <td>13</td>\n",
       "      <td>3</td>\n",
       "    </tr>\n",
       "    <tr>\n",
       "      <th>2011-01-01 04:00:00</th>\n",
       "      <td>1</td>\n",
       "      <td>0</td>\n",
       "      <td>0</td>\n",
       "      <td>1</td>\n",
       "      <td>9.84</td>\n",
       "      <td>14.395</td>\n",
       "      <td>75</td>\n",
       "      <td>0.0</td>\n",
       "      <td>0</td>\n",
       "      <td>1</td>\n",
       "      <td>1</td>\n",
       "      <td>4</td>\n",
       "    </tr>\n",
       "  </tbody>\n",
       "</table>\n",
       "</div>"
      ],
      "text/plain": [
       "                     season  holiday  workingday  weather  temp   atemp  \\\n",
       "datetime                                                                  \n",
       "2011-01-01 00:00:00       1        0           0        1  9.84  14.395   \n",
       "2011-01-01 01:00:00       1        0           0        1  9.02  13.635   \n",
       "2011-01-01 02:00:00       1        0           0        1  9.02  13.635   \n",
       "2011-01-01 03:00:00       1        0           0        1  9.84  14.395   \n",
       "2011-01-01 04:00:00       1        0           0        1  9.84  14.395   \n",
       "\n",
       "                     humidity  windspeed  casual  registered  total  hour  \n",
       "datetime                                                                   \n",
       "2011-01-01 00:00:00        81        0.0       3          13     16     0  \n",
       "2011-01-01 01:00:00        80        0.0       8          32     40     1  \n",
       "2011-01-01 02:00:00        80        0.0       5          27     32     2  \n",
       "2011-01-01 03:00:00        75        0.0       3          10     13     3  \n",
       "2011-01-01 04:00:00        75        0.0       0           1      1     4  "
      ]
     },
     "execution_count": 3,
     "metadata": {},
     "output_type": "execute_result"
    }
   ],
   "source": [
    "# Lectura de la información de archivo .csv\n",
    "bikes = pd.read_csv('https://raw.githubusercontent.com/davidzarruk/MIAD_ML_NLP_2023/main/datasets/bikeshare.csv', index_col='datetime', parse_dates=True)\n",
    "\n",
    "# Renombrar variable \"count\" a \"total\"\n",
    "bikes.rename(columns={'count':'total'}, inplace=True)\n",
    "\n",
    "# Crear la hora como una variable \n",
    "bikes['hour'] = bikes.index.hour\n",
    "\n",
    "# Visualización de los datos\n",
    "bikes.head()"
   ]
  },
  {
   "cell_type": "markdown",
   "metadata": {},
   "source": [
    "### Punto 1 - Análisis descriptivo\n",
    "\n",
    "Ejecute las celdas 1.1 y 1.2. A partir de los resultados realice un análisis descriptivo sobre las variables \"season\" y \"hour\", escriba sus inferencias sobre los datos. Para complementar su análisis puede usar métricas como máximo, mínimo, percentiles entre otros."
   ]
  },
  {
   "cell_type": "markdown",
   "metadata": {},
   "source": [
    "##### Análisis del total de bicicletas rentadas por temporada"
   ]
  },
  {
   "cell_type": "code",
   "execution_count": 4,
   "metadata": {},
   "outputs": [
    {
     "data": {
      "text/plain": [
       "season\n",
       "1    116.343261\n",
       "2    215.251372\n",
       "3    234.417124\n",
       "4    198.988296\n",
       "Name: total, dtype: float64"
      ]
     },
     "execution_count": 4,
     "metadata": {},
     "output_type": "execute_result"
    }
   ],
   "source": [
    "# Celda 1.1\n",
    "# Calculo de la media por temporada\n",
    "bikes.groupby('season').total.mean()"
   ]
  },
  {
   "cell_type": "markdown",
   "metadata": {},
   "source": [
    "Tal como podemos observar la anterior celda nos muestra el total de rentas por season en promedio. Por tanto, podemos observar que las temporadas con mayores rentas de bicicletas en promedio son la 2 y la 3. En cuanta las temporadas con menores rentas de bicicletas en promedio corresponden a la 1 y la 4, siendo la temporada 1 como la que menor rentas de bicicletas ha tenido. "
   ]
  },
  {
   "cell_type": "code",
   "execution_count": 5,
   "metadata": {},
   "outputs": [
    {
     "name": "stdout",
     "output_type": "stream",
     "text": [
      "season\n",
      "1    801\n",
      "2    873\n",
      "3    977\n",
      "4    948\n",
      "Name: total, dtype: int64\n",
      "season\n",
      "1    1\n",
      "2    1\n",
      "3    1\n",
      "4    1\n",
      "Name: total, dtype: int64\n",
      "season      \n",
      "1       0.25     24.0\n",
      "        0.50     78.0\n",
      "        0.75    164.0\n",
      "2       0.25     49.0\n",
      "        0.50    172.0\n",
      "        0.75    321.0\n",
      "3       0.25     68.0\n",
      "        0.50    195.0\n",
      "        0.75    347.0\n",
      "4       0.25     51.0\n",
      "        0.50    161.0\n",
      "        0.75    294.0\n",
      "Name: total, dtype: float64\n"
     ]
    }
   ],
   "source": [
    "# Calculo del valor maximo por temporada\n",
    "print(bikes.groupby('season').total.max())\n",
    "# Calculo del valor minimo por temporada\n",
    "print(bikes.groupby('season').total.min())\n",
    "# Calculo de los quantiles para cada temporada\n",
    "print(bikes.groupby('season').total.quantile([0.25, 0.5, 0.75]))"
   ]
  },
  {
   "cell_type": "markdown",
   "metadata": {},
   "source": [
    "En la anterior celda se analizaron tanto los valores maximos, minimos y los cuartiles Q1, Q2, y Q3 para ver el comportamiento de los totales para cada una de las temporadas. De lo anterior podemos concluir:\n",
    "* La temporada 3 es la temporada con la mayor cantidad de rentas de bicicletas reportadas con un total de 977, seguida de la temporada 4 con 948 rentas. \n",
    "* Todas las temporadas tienen como valor minimo 1 bicicleta rentada.\n",
    "* En cuanto a los cuartiles es interesante observar el rango intercuartil (Q1- Q3) de cada una de las temporadas. Por ejemplo, podemos observar que los limites del rango intercuartil para la temporada 3 son mayores comparados con las otras 3 temporadas, lo cual coincide con que es la temporada que posee la mayor renta de bicicletas en promedio. En cuanto a la temporada con menor promedio ( temporada 1), podemos observar que los limites de su rango intercuartil son menores comparados con las de las otras temporadas."
   ]
  },
  {
   "cell_type": "markdown",
   "metadata": {},
   "source": [
    "##### Análisis del total de bicicletas rentadas por hora"
   ]
  },
  {
   "cell_type": "code",
   "execution_count": 6,
   "metadata": {
    "scrolled": true
   },
   "outputs": [
    {
     "data": {
      "text/plain": [
       "hour\n",
       "0      55.138462\n",
       "1      33.859031\n",
       "2      22.899554\n",
       "3      11.757506\n",
       "4       6.407240\n",
       "5      19.767699\n",
       "6      76.259341\n",
       "7     213.116484\n",
       "8     362.769231\n",
       "9     221.780220\n",
       "10    175.092308\n",
       "11    210.674725\n",
       "12    256.508772\n",
       "13    257.787281\n",
       "14    243.442982\n",
       "15    254.298246\n",
       "16    316.372807\n",
       "17    468.765351\n",
       "18    430.859649\n",
       "19    315.278509\n",
       "20    228.517544\n",
       "21    173.370614\n",
       "22    133.576754\n",
       "23     89.508772\n",
       "Name: total, dtype: float64"
      ]
     },
     "execution_count": 6,
     "metadata": {},
     "output_type": "execute_result"
    }
   ],
   "source": [
    "# Celda 1.2\n",
    "bikes.groupby('hour').total.mean()"
   ]
  },
  {
   "cell_type": "code",
   "execution_count": 7,
   "metadata": {},
   "outputs": [
    {
     "data": {
      "image/png": "[encoded data removed]",
      "text/plain": [
       "<Figure size 1000x600 with 1 Axes>"
      ]
     },
     "metadata": {},
     "output_type": "display_data"
    }
   ],
   "source": [
    "promedio_por_hora = bikes.groupby('hour').total.mean()\n",
    "\n",
    "# Crear el histograma\n",
    "promedio_por_hora.plot(kind='bar', figsize=(10, 6), color='skyblue')\n",
    "\n",
    "# Configurar el título y etiquetas de los ejes\n",
    "plt.title('Promedio de total de rentas de bicicletas por hora')\n",
    "plt.xlabel('Hora del día')\n",
    "plt.ylabel('Promedio de total de bicicletas')\n",
    "\n",
    "# Mostrar el histograma\n",
    "plt.show()"
   ]
  },
  {
   "cell_type": "markdown",
   "metadata": {},
   "source": [
    "Como es mas complejo comparar todos los valores en promedio por cada hora ya que son 24 valores, se opto por realizar un histograma con el fin de poder hacer un análisis con mayor claridad basandonos en la visualización. Del anterior histograma podemos concluir lo siguiente:\n",
    "* En promedio las horas de la madrugada, son las horas en las que ocurren la menor cantidad de rentas de bicicleta, especificamente ente las 0 y las 5. \n",
    "* A partir de las 6 de la mañana empieza a ocurrir un aumento en la renta de bicicletas alcanzando un valor pico a las 8 de la mañana, hora en la que la renta vuelve a disminuir hasta las 10. \n",
    "* Entre las 11 y las 15 las rentas de bicicletas en promedio no cambian, manteniendose entre un rango de 200 - 250 bicicletas rentadas aproximadamente. \n",
    "* A partir de las 16 empiezan a tener un incremento hasta que alcanzan un nuevo pico a las 17, en el cual empieza a disminuir cada vez mas a medida que cae la noche hasta llegar a las 23.\n",
    "* Si se hace un acercamiento a la vida real esas horas en las que se alcanzan \"picos\" pueden estar relacionadas a las horas en las que las personas entran a trabajar y salen de trabajar, siendo estas las horas en las que se incrementan las necesidades de transporte de las personas."
   ]
  },
  {
   "cell_type": "code",
   "execution_count": 8,
   "metadata": {},
   "outputs": [
    {
     "data": {
      "image/png": "[encoded data removed]",
      "text/plain": [
       "<Figure size 1000x600 with 1 Axes>"
      ]
     },
     "metadata": {},
     "output_type": "display_data"
    }
   ],
   "source": [
    "# Se evalua los valores maximos\n",
    "max_por_hora = bikes.groupby('hour').total.max()\n",
    "\n",
    "# Crear el histograma\n",
    "max_por_hora.plot(kind='bar', figsize=(10, 6), color='skyblue')\n",
    "\n",
    "# Configurar el título y etiquetas de los ejes\n",
    "plt.title('max de rentas de bicicletas por hora')\n",
    "plt.xlabel('Hora del día')\n",
    "plt.ylabel('max de bicicletas')\n",
    "\n",
    "# Mostrar el histograma\n",
    "plt.show()"
   ]
  },
  {
   "cell_type": "markdown",
   "metadata": {},
   "source": [
    "Si analizamos los valores maximos de rentas por hora, podemos encontrar que las horas con valores mas altos corresponden de igual forma a las horas en los que su promedio de rentas era alto. Estas horas son las mismas horas que llamamos \"picos\" en la anterior visualización.  "
   ]
  },
  {
   "cell_type": "markdown",
   "metadata": {},
   "source": [
    "### Punto 2 - Análisis de gráficos\n",
    "\n",
    "Primero ejecute la celda 2.1 y asegúrese de comprender el código y el resultado. Luego, en cada una de celdas 2.2 y 2.3 escriba un código que genere una gráfica del número de bicicletas rentadas promedio para cada valor de la variable \"hour\" (hora) cuando la variable \"season\" es igual a 1 (invierno) e igual a 3 (verano), respectivamente. Analice y escriba sus hallazgos."
   ]
  },
  {
   "cell_type": "code",
   "execution_count": 9,
   "metadata": {},
   "outputs": [
    {
     "data": {
      "text/plain": [
       "<AxesSubplot:xlabel='hour'>"
      ]
     },
     "execution_count": 9,
     "metadata": {},
     "output_type": "execute_result"
    },
    {
     "data": {
      "image/png": "[encoded data removed]",
      "text/plain": [
       "<Figure size 640x480 with 1 Axes>"
      ]
     },
     "metadata": {},
     "output_type": "display_data"
    }
   ],
   "source": [
    "# Celda 2.1 - rentas promedio para cada valor de la variable \"hour\"\n",
    "bikes.groupby('hour').total.mean().plot()"
   ]
  },
  {
   "cell_type": "markdown",
   "metadata": {},
   "source": [
    "Para esta grafica podemos concluir lo mismo que se hizo para el histograma realizado para la cantidad de rentas promedio por cada hora del dia. En conclusión: \n",
    "* En promedio las horas de la madrugada, son las horas en las que ocurren la menor cantidad de rentas de bicicletas.\n",
    "* Se tienen dos valores picos los cuales son a las 8 y las 17.\n",
    "* en el transcurso de la mañana (desde las 11) hasta aproximadamente las 15 la renta de bicicletas en promedio se mantiene en un rango entre las 200 y 250 bicicletas.\n",
    "* a mediados de que transcurre la noche la renta de bicicletas empieza a disminuir considerablemente, sobre todo en las últimas horas del dia. "
   ]
  },
  {
   "cell_type": "markdown",
   "metadata": {},
   "source": [
    "##### Visualización para season = 1 \"Invierno\""
   ]
  },
  {
   "cell_type": "code",
   "execution_count": 10,
   "metadata": {},
   "outputs": [
    {
     "name": "stdout",
     "output_type": "stream",
     "text": [
      "hour\n",
      "0      28.292035\n",
      "1      18.761062\n",
      "2      13.205607\n",
      "3       7.760417\n",
      "4       3.336634\n",
      "5      10.300000\n",
      "6      42.725664\n",
      "7     124.433628\n",
      "8     253.345133\n",
      "9     154.442478\n",
      "10    102.168142\n",
      "11    122.601770\n",
      "12    154.412281\n",
      "13    160.771930\n",
      "14    151.263158\n",
      "15    159.087719\n",
      "16    188.640351\n",
      "17    283.456140\n",
      "18    258.157895\n",
      "19    176.315789\n",
      "20    124.394737\n",
      "21     95.298246\n",
      "22     72.912281\n",
      "23     45.333333\n",
      "Name: total, dtype: float64\n"
     ]
    },
    {
     "data": {
      "image/png": "[encoded data removed]",
      "text/plain": [
       "<Figure size 640x480 with 1 Axes>"
      ]
     },
     "metadata": {},
     "output_type": "display_data"
    }
   ],
   "source": [
    "# Celda 2.2 - \"season\"=1 escriba su código y hallazgos \n",
    "# primero creamos un nuevo dataframe que solo tenga los valores de la temporada 1 , filtrando el dataset original\n",
    "season_1 = bikes[bikes[\"season\"]==1]\n",
    "season_1.groupby(\"hour\").total.mean().plot()\n",
    "print(season_1.groupby(\"hour\").total.mean())"
   ]
  },
  {
   "cell_type": "markdown",
   "metadata": {},
   "source": [
    "En esta gráfica, se pueden observar las mismas tendencias que en el anterior caso, la diferencia radica es que existe una disminución en la renta de bicicletas en todas las horas. Esto se podria deber a que las personas en invierno puede que opten por otros medios de transporte diferentes a la bicicleta debido a las limitaciones generadas por las condiciones climaticas. Esto se puede ver claramente en los valores de los picos donde a las 8 alcanza un valor de 253,34 y a las 17 de 283,45, lo que indica una disminución en la renta de bicicletas si comparamos estos valores con los valores que se obtuvieron en esas horas cuando se realizo el análisis con todas las \"season\" donde se obtuvo para las 8 - 362 y para las 17 - 468"
   ]
  },
  {
   "cell_type": "markdown",
   "metadata": {},
   "source": [
    "##### Visualización para season = 3 \"Verano\""
   ]
  },
  {
   "cell_type": "code",
   "execution_count": 11,
   "metadata": {},
   "outputs": [
    {
     "name": "stdout",
     "output_type": "stream",
     "text": [
      "hour\n",
      "0      75.675439\n",
      "1      44.831858\n",
      "2      31.707965\n",
      "3      15.778761\n",
      "4       8.087719\n",
      "5      25.728070\n",
      "6      96.780702\n",
      "7     264.035088\n",
      "8     403.508772\n",
      "9     250.710526\n",
      "10    218.535088\n",
      "11    256.877193\n",
      "12    307.017544\n",
      "13    304.421053\n",
      "14    286.350877\n",
      "15    294.956140\n",
      "16    371.324561\n",
      "17    565.385965\n",
      "18    539.070175\n",
      "19    413.500000\n",
      "20    307.842105\n",
      "21    236.017544\n",
      "22    180.789474\n",
      "23    121.719298\n",
      "Name: total, dtype: float64\n"
     ]
    },
    {
     "data": {
      "image/png": "[encoded data removed]",
      "text/plain": [
       "<Figure size 640x480 with 1 Axes>"
      ]
     },
     "metadata": {},
     "output_type": "display_data"
    }
   ],
   "source": [
    "# Celda 2.3 - \"season\"=3 escriba su código y hallazgos \n",
    "# primero creamos un nuevo dataframe que solo tenga los valores de la temporada 3 , filtrando el dataset original\n",
    "season_3 = bikes[bikes[\"season\"]==3]\n",
    "season_3.groupby(\"hour\").total.mean().plot()\n",
    "print(season_3.groupby(\"hour\").total.mean())\n"
   ]
  },
  {
   "cell_type": "markdown",
   "metadata": {},
   "source": [
    "La tendencia para este caso en el comportamiento de la renta de bicletas en promedio es igual que en los anteriores dos casos. Lo unico que lo diferencia es que en esta temporada incrementan significativamente la cantidad de bicicletas rentadas en promedio, lo cual se puede ver en cada uno de los picos, alcanzando un valor de 403 bicicletas rentadas para las 8 y de 565 bicicletas rentadas para las 17"
   ]
  },
  {
   "cell_type": "markdown",
   "metadata": {},
   "source": [
    "### Punto 3 - Regresión lineal\n",
    "En la celda 3 ajuste un modelo de regresión lineal a todo el conjunto de datos, utilizando \"total\" como variable de respuesta y \"season\" y \"hour\" como las únicas variables predictoras, teniendo en cuenta que la variable \"season\" es categórica. Luego, imprima los coeficientes e interprételos. ¿Cuáles son las limitaciones de la regresión lineal en este caso?"
   ]
  },
  {
   "cell_type": "code",
   "execution_count": 12,
   "metadata": {},
   "outputs": [
    {
     "data": {
      "text/html": [
       "<div>\n",
       "<style scoped>\n",
       "    .dataframe tbody tr th:only-of-type {\n",
       "        vertical-align: middle;\n",
       "    }\n",
       "\n",
       "    .dataframe tbody tr th {\n",
       "        vertical-align: top;\n",
       "    }\n",
       "\n",
       "    .dataframe thead th {\n",
       "        text-align: right;\n",
       "    }\n",
       "</style>\n",
       "<table border=\"1\" class=\"dataframe\">\n",
       "  <thead>\n",
       "    <tr style=\"text-align: right;\">\n",
       "      <th></th>\n",
       "      <th>holiday</th>\n",
       "      <th>workingday</th>\n",
       "      <th>weather</th>\n",
       "      <th>temp</th>\n",
       "      <th>atemp</th>\n",
       "      <th>humidity</th>\n",
       "      <th>windspeed</th>\n",
       "      <th>casual</th>\n",
       "      <th>registered</th>\n",
       "      <th>total</th>\n",
       "      <th>hour</th>\n",
       "      <th>season_2</th>\n",
       "      <th>season_3</th>\n",
       "      <th>season_4</th>\n",
       "    </tr>\n",
       "    <tr>\n",
       "      <th>datetime</th>\n",
       "      <th></th>\n",
       "      <th></th>\n",
       "      <th></th>\n",
       "      <th></th>\n",
       "      <th></th>\n",
       "      <th></th>\n",
       "      <th></th>\n",
       "      <th></th>\n",
       "      <th></th>\n",
       "      <th></th>\n",
       "      <th></th>\n",
       "      <th></th>\n",
       "      <th></th>\n",
       "      <th></th>\n",
       "    </tr>\n",
       "  </thead>\n",
       "  <tbody>\n",
       "    <tr>\n",
       "      <th>2011-01-01 00:00:00</th>\n",
       "      <td>0</td>\n",
       "      <td>0</td>\n",
       "      <td>1</td>\n",
       "      <td>9.84</td>\n",
       "      <td>14.395</td>\n",
       "      <td>81</td>\n",
       "      <td>0.0000</td>\n",
       "      <td>3</td>\n",
       "      <td>13</td>\n",
       "      <td>16</td>\n",
       "      <td>0</td>\n",
       "      <td>0</td>\n",
       "      <td>0</td>\n",
       "      <td>0</td>\n",
       "    </tr>\n",
       "    <tr>\n",
       "      <th>2011-01-01 01:00:00</th>\n",
       "      <td>0</td>\n",
       "      <td>0</td>\n",
       "      <td>1</td>\n",
       "      <td>9.02</td>\n",
       "      <td>13.635</td>\n",
       "      <td>80</td>\n",
       "      <td>0.0000</td>\n",
       "      <td>8</td>\n",
       "      <td>32</td>\n",
       "      <td>40</td>\n",
       "      <td>1</td>\n",
       "      <td>0</td>\n",
       "      <td>0</td>\n",
       "      <td>0</td>\n",
       "    </tr>\n",
       "    <tr>\n",
       "      <th>2011-01-01 02:00:00</th>\n",
       "      <td>0</td>\n",
       "      <td>0</td>\n",
       "      <td>1</td>\n",
       "      <td>9.02</td>\n",
       "      <td>13.635</td>\n",
       "      <td>80</td>\n",
       "      <td>0.0000</td>\n",
       "      <td>5</td>\n",
       "      <td>27</td>\n",
       "      <td>32</td>\n",
       "      <td>2</td>\n",
       "      <td>0</td>\n",
       "      <td>0</td>\n",
       "      <td>0</td>\n",
       "    </tr>\n",
       "    <tr>\n",
       "      <th>2011-01-01 03:00:00</th>\n",
       "      <td>0</td>\n",
       "      <td>0</td>\n",
       "      <td>1</td>\n",
       "      <td>9.84</td>\n",
       "      <td>14.395</td>\n",
       "      <td>75</td>\n",
       "      <td>0.0000</td>\n",
       "      <td>3</td>\n",
       "      <td>10</td>\n",
       "      <td>13</td>\n",
       "      <td>3</td>\n",
       "      <td>0</td>\n",
       "      <td>0</td>\n",
       "      <td>0</td>\n",
       "    </tr>\n",
       "    <tr>\n",
       "      <th>2011-01-01 04:00:00</th>\n",
       "      <td>0</td>\n",
       "      <td>0</td>\n",
       "      <td>1</td>\n",
       "      <td>9.84</td>\n",
       "      <td>14.395</td>\n",
       "      <td>75</td>\n",
       "      <td>0.0000</td>\n",
       "      <td>0</td>\n",
       "      <td>1</td>\n",
       "      <td>1</td>\n",
       "      <td>4</td>\n",
       "      <td>0</td>\n",
       "      <td>0</td>\n",
       "      <td>0</td>\n",
       "    </tr>\n",
       "    <tr>\n",
       "      <th>...</th>\n",
       "      <td>...</td>\n",
       "      <td>...</td>\n",
       "      <td>...</td>\n",
       "      <td>...</td>\n",
       "      <td>...</td>\n",
       "      <td>...</td>\n",
       "      <td>...</td>\n",
       "      <td>...</td>\n",
       "      <td>...</td>\n",
       "      <td>...</td>\n",
       "      <td>...</td>\n",
       "      <td>...</td>\n",
       "      <td>...</td>\n",
       "      <td>...</td>\n",
       "    </tr>\n",
       "    <tr>\n",
       "      <th>2012-12-19 19:00:00</th>\n",
       "      <td>0</td>\n",
       "      <td>1</td>\n",
       "      <td>1</td>\n",
       "      <td>15.58</td>\n",
       "      <td>19.695</td>\n",
       "      <td>50</td>\n",
       "      <td>26.0027</td>\n",
       "      <td>7</td>\n",
       "      <td>329</td>\n",
       "      <td>336</td>\n",
       "      <td>19</td>\n",
       "      <td>0</td>\n",
       "      <td>0</td>\n",
       "      <td>1</td>\n",
       "    </tr>\n",
       "    <tr>\n",
       "      <th>2012-12-19 20:00:00</th>\n",
       "      <td>0</td>\n",
       "      <td>1</td>\n",
       "      <td>1</td>\n",
       "      <td>14.76</td>\n",
       "      <td>17.425</td>\n",
       "      <td>57</td>\n",
       "      <td>15.0013</td>\n",
       "      <td>10</td>\n",
       "      <td>231</td>\n",
       "      <td>241</td>\n",
       "      <td>20</td>\n",
       "      <td>0</td>\n",
       "      <td>0</td>\n",
       "      <td>1</td>\n",
       "    </tr>\n",
       "    <tr>\n",
       "      <th>2012-12-19 21:00:00</th>\n",
       "      <td>0</td>\n",
       "      <td>1</td>\n",
       "      <td>1</td>\n",
       "      <td>13.94</td>\n",
       "      <td>15.910</td>\n",
       "      <td>61</td>\n",
       "      <td>15.0013</td>\n",
       "      <td>4</td>\n",
       "      <td>164</td>\n",
       "      <td>168</td>\n",
       "      <td>21</td>\n",
       "      <td>0</td>\n",
       "      <td>0</td>\n",
       "      <td>1</td>\n",
       "    </tr>\n",
       "    <tr>\n",
       "      <th>2012-12-19 22:00:00</th>\n",
       "      <td>0</td>\n",
       "      <td>1</td>\n",
       "      <td>1</td>\n",
       "      <td>13.94</td>\n",
       "      <td>17.425</td>\n",
       "      <td>61</td>\n",
       "      <td>6.0032</td>\n",
       "      <td>12</td>\n",
       "      <td>117</td>\n",
       "      <td>129</td>\n",
       "      <td>22</td>\n",
       "      <td>0</td>\n",
       "      <td>0</td>\n",
       "      <td>1</td>\n",
       "    </tr>\n",
       "    <tr>\n",
       "      <th>2012-12-19 23:00:00</th>\n",
       "      <td>0</td>\n",
       "      <td>1</td>\n",
       "      <td>1</td>\n",
       "      <td>13.12</td>\n",
       "      <td>16.665</td>\n",
       "      <td>66</td>\n",
       "      <td>8.9981</td>\n",
       "      <td>4</td>\n",
       "      <td>84</td>\n",
       "      <td>88</td>\n",
       "      <td>23</td>\n",
       "      <td>0</td>\n",
       "      <td>0</td>\n",
       "      <td>1</td>\n",
       "    </tr>\n",
       "  </tbody>\n",
       "</table>\n",
       "<p>10886 rows × 14 columns</p>\n",
       "</div>"
      ],
      "text/plain": [
       "                     holiday  workingday  weather   temp   atemp  humidity  \\\n",
       "datetime                                                                     \n",
       "2011-01-01 00:00:00        0           0        1   9.84  14.395        81   \n",
       "2011-01-01 01:00:00        0           0        1   9.02  13.635        80   \n",
       "2011-01-01 02:00:00        0           0        1   9.02  13.635        80   \n",
       "2011-01-01 03:00:00        0           0        1   9.84  14.395        75   \n",
       "2011-01-01 04:00:00        0           0        1   9.84  14.395        75   \n",
       "...                      ...         ...      ...    ...     ...       ...   \n",
       "2012-12-19 19:00:00        0           1        1  15.58  19.695        50   \n",
       "2012-12-19 20:00:00        0           1        1  14.76  17.425        57   \n",
       "2012-12-19 21:00:00        0           1        1  13.94  15.910        61   \n",
       "2012-12-19 22:00:00        0           1        1  13.94  17.425        61   \n",
       "2012-12-19 23:00:00        0           1        1  13.12  16.665        66   \n",
       "\n",
       "                     windspeed  casual  registered  total  hour  season_2  \\\n",
       "datetime                                                                    \n",
       "2011-01-01 00:00:00     0.0000       3          13     16     0         0   \n",
       "2011-01-01 01:00:00     0.0000       8          32     40     1         0   \n",
       "2011-01-01 02:00:00     0.0000       5          27     32     2         0   \n",
       "2011-01-01 03:00:00     0.0000       3          10     13     3         0   \n",
       "2011-01-01 04:00:00     0.0000       0           1      1     4         0   \n",
       "...                        ...     ...         ...    ...   ...       ...   \n",
       "2012-12-19 19:00:00    26.0027       7         329    336    19         0   \n",
       "2012-12-19 20:00:00    15.0013      10         231    241    20         0   \n",
       "2012-12-19 21:00:00    15.0013       4         164    168    21         0   \n",
       "2012-12-19 22:00:00     6.0032      12         117    129    22         0   \n",
       "2012-12-19 23:00:00     8.9981       4          84     88    23         0   \n",
       "\n",
       "                     season_3  season_4  \n",
       "datetime                                 \n",
       "2011-01-01 00:00:00         0         0  \n",
       "2011-01-01 01:00:00         0         0  \n",
       "2011-01-01 02:00:00         0         0  \n",
       "2011-01-01 03:00:00         0         0  \n",
       "2011-01-01 04:00:00         0         0  \n",
       "...                       ...       ...  \n",
       "2012-12-19 19:00:00         0         1  \n",
       "2012-12-19 20:00:00         0         1  \n",
       "2012-12-19 21:00:00         0         1  \n",
       "2012-12-19 22:00:00         0         1  \n",
       "2012-12-19 23:00:00         0         1  \n",
       "\n",
       "[10886 rows x 14 columns]"
      ]
     },
     "execution_count": 12,
     "metadata": {},
     "output_type": "execute_result"
    }
   ],
   "source": [
    "# Se crean columnas dummys para cada categoria de la variable season.\n",
    "data = pd.get_dummies(bikes, columns=['season'], drop_first=True)\n",
    "data"
   ]
  },
  {
   "cell_type": "code",
   "execution_count": 13,
   "metadata": {},
   "outputs": [
    {
     "name": "stdout",
     "output_type": "stream",
     "text": [
      "Coeficientes:\n",
      "Coeficiente para 'season_2': 100.31723191606106\n",
      "Coeficiente para 'season_3': 119.46754994593172\n",
      "Coeficiente para 'season_4': 84.08311787296938\n",
      "Coeficiente para 'hour': 10.545206094069906\n",
      "Intercepto: -6.430262462305308\n"
     ]
    }
   ],
   "source": [
    "# Celda 3\n",
    "# definimos el dataframe a utilizar.\n",
    "data = data.reset_index()\n",
    "data= data[[\"total\",\"season_2\",\"season_3\", \"season_4\", \"hour\"]]\n",
    "data\n",
    "\n",
    "X = data[[\"season_2\",\"season_3\", \"season_4\",\"hour\"]]\n",
    "Y = data[\"total\"]\n",
    "\n",
    "\n",
    "# Inicializar el modelo de regresión lineal\n",
    "model = LinearRegression()\n",
    "\n",
    "# Ajustar el modelo al conjunto con todos los datos sin partir la muestra\n",
    "model.fit(X, Y)\n",
    "\n",
    "print(\"Coeficientes:\")\n",
    "for i, coef in enumerate(model.coef_):\n",
    "    print(f\"Coeficiente para '{X.columns[i]}': {coef}\")\n",
    "\n",
    "print(f\"Intercepto: {model.intercept_}\")"
   ]
  },
  {
   "cell_type": "markdown",
   "metadata": {},
   "source": [
    "* El coeficiente para 'season_2' es aproximadamente 100.32. De esto se concluye que en comparación con la season 1, se espera que el valor total aumente en aproximadamente 100.32 unidades cuando la observación pertenece a la temporada 2.\n",
    "\n",
    "* El coeficiente para 'season_3' es aproximadamente 119.47. De esto se concluye que en comparación con la season 1 (categoría de referencia), se espera que el valor total aumente en aproximadamente 119.47 unidades cuando la observación pertenece a la temporada 3.\n",
    "\n",
    "* El coeficiente para 'season_4' es aproximadamente 84.08. De esto se concluye que en comparación con la season 1, se espera que el valor total aumente en aproximadamente 84.08 unidades cuando la observación pertenece a la temporada 4.\n",
    "\n",
    "* El coeficiente para 'hour' es aproximadamente 10.55. Esto significa que, manteniendo constantes las otras variables (season), se espera que el valor total aumente en aproximadamente 10.55 unidades por cada unidad adicional en la variable 'hour'.\n",
    "\n",
    "Si se trata de interpretar el valor de los coeficientes haciendo una aproximación a lo que encontramos en las visualizaciónes de los datos, tenemos que el coeficiente de la temporada 3 que corresponde al verano es el mayor comparado con las otras temporadas, lo cual es acorde a lo que se encontro, donde para el verano se tenia los valores mas altos en promedio del total de bicicletas rentadas. Los coeficientes para las season 2 y 4 tambien coinciden con los resultados de los promedios del total de bicicletas rentadas, donde la temporada 2 es la segunda con mas rentas en promedio y la temporada 3 la tercera."
   ]
  },
  {
   "cell_type": "markdown",
   "metadata": {},
   "source": [
    "Las limitaciones que tiene la regresión lineal en este caso son:\n",
    "* Asume que existe una relación lineal entre la variable de respuesta y las variables predictoras, por tanto no esta capturando relaciones no lineales.\n",
    "* No permite una interpretación clara y certera, sobre todo para la variable de horas lo cual no estaria acorde a lo que ocurre en realidad. Por ejemplo, el coeficiente obtenido es de 10.54, si una observación tiene como hora 8 el aporte de multiplicar ese valor por su coeficiente va a ser menor que multiplicar por ejemplo la hora 23 por ese mismo, lo cual no es consecuente con la realidad ya que en promedio en la hora 8 se presentan muchas mas rentas de bicicletas totales que en la hora 23 para todas las temporadas. Esto también puede suceder porque es posible que no exista una relación lineal entre la variable hora y la variable total.\n"
   ]
  },
  {
   "cell_type": "markdown",
   "metadata": {},
   "source": [
    "\n",
    "### Punto 4 - Árbol de decisión manual\n",
    "En la celda 4 cree un árbol de decisiones para pronosticar la variable \"total\" iterando **manualmente** sobre las variables \"hour\" y  \"season\". El árbol debe tener al menos 6 nodos finales."
   ]
  },
  {
   "cell_type": "code",
   "execution_count": 33,
   "metadata": {},
   "outputs": [],
   "source": [
    "# Esta función se usara para calcular el mse en cada nodo\n",
    "def calcular_mse(y):\n",
    "    n = len(y)\n",
    "    mean_y = np.mean(y)\n",
    "    mse = np.mean((y - mean_y)**2)\n",
    "    return mse\n",
    "# Esta función evalua el mse para el nodo, teniendo en cuenta el valor de la partición. \n",
    "def evaluar_nodo(X, y, idx, valor_corte):\n",
    "    left_indices = np.where(X[:, idx] <= valor_corte)[0]\n",
    "    right_indices = np.where(X[:, idx] > valor_corte)[0]\n",
    "    \n",
    "    left_mse = calcular_mse(y[left_indices])\n",
    "    right_mse = calcular_mse(y[right_indices])\n",
    "    \n",
    "    return left_mse, right_mse\n",
    "# Definición de la función best_split para calcular cuál es la mejor variable y punto de cortepara hacer la bifurcación del árbol\n",
    "def best_split(X, y, num_pct=10):\n",
    "    \n",
    "    features = range(X.shape[1])\n",
    "    \n",
    "    best_split = [0, 0, float('inf')]  # j, split, mse\n",
    "    \n",
    "    # Para todas las variables \n",
    "    for j in features:\n",
    "        # Comprobar si hay suficientes datos en la serie\n",
    "        if len(X.iloc[:, j]) == 0:\n",
    "            continue\n",
    "        \n",
    "        splits = np.percentile(X.iloc[:, j], np.arange(0, 100, 100.0 / (num_pct+1)).tolist())\n",
    "        splits = np.unique(splits)[1:]\n",
    "        \n",
    "        # Para cada partición\n",
    "        for split in splits:\n",
    "            # Calcula el mse para la particion derecha y izquierda\n",
    "            mse_left, mse_right = evaluar_nodo(X.values, y.values, j, split)\n",
    "            \n",
    "            # Calcula el mse ponderado para la division de un nodo\n",
    "            mse = (len(y[y <= split]) * mse_left + len(y[y > split]) * mse_right) / len(y)\n",
    "            \n",
    "            #  Asigna el mejor split, basandose en el que menor mse tenga            \n",
    "            if mse < best_split[2]:\n",
    "                best_split = [j, split, mse]\n",
    "    \n",
    "    return best_split\n",
    "\n"
   ]
  },
  {
   "cell_type": "code",
   "execution_count": 34,
   "metadata": {},
   "outputs": [],
   "source": [
    "# Celda 4\n",
    "# Primero se tratara la variable categorica \"season\"\n",
    "datos_arbol= bikes.reset_index()\n"
   ]
  },
  {
   "cell_type": "code",
   "execution_count": 35,
   "metadata": {},
   "outputs": [],
   "source": [
    "X_arbol = datos_arbol[[\"season\", \"hour\"]]\n",
    "Y_arbol = datos_arbol[\"total\"]\n",
    "\n",
    "# Definición de parámetros y criterios de parada\n",
    "max_depth = None\n",
    "num_pct = 10\n",
    "max_features = None"
   ]
  },
  {
   "cell_type": "code",
   "execution_count": 36,
   "metadata": {},
   "outputs": [
    {
     "data": {
      "text/plain": [
       "[1, 21.0, 9617.974042440874]"
      ]
     },
     "execution_count": 36,
     "metadata": {},
     "output_type": "execute_result"
    }
   ],
   "source": [
    "best_split(X_arbol, Y_arbol, 10)"
   ]
  },
  {
   "cell_type": "code",
   "execution_count": 37,
   "metadata": {},
   "outputs": [],
   "source": [
    "def tree_grow(X, y, level=0, max_depth=None, num_pct=10):\n",
    "    \n",
    "    # Si solo es una observación\n",
    "    if X.shape[0] == 1:\n",
    "        tree = dict(y_pred=y.iloc[:1].values[0], level=level, split=-1, n_samples=1, mse=0)\n",
    "        return tree\n",
    "    \n",
    "    # Calcular la mejor división\n",
    "    j, split, mse = best_split(X, y, num_pct)\n",
    "    \n",
    "    # Guardar el árbol y estimar la predicción\n",
    "    y_pred = y.mean() \n",
    "    #y_prob = (y.sum() + 1.0) / (y.shape[0] + 2.0)  # Corrección Laplace \n",
    "    \n",
    "    tree = dict(y_pred=y_pred, level=level, split=-1, n_samples=X.shape[0], mse=mse)\n",
    "    \n",
    "    # Criterio de parada: alcanzar el número deseado de nodos finales\n",
    "    if level == max_depth:\n",
    "        return tree   \n",
    "    \n",
    "    # Continuar creando la partición\n",
    "    filter_l = X.iloc[:, j] < split\n",
    "    X_l, y_l = X.loc[filter_l], y.loc[filter_l]\n",
    "    X_r, y_r = X.loc[~filter_l], y.loc[~filter_l]\n",
    "    tree['split'] = [j, split]\n",
    "\n",
    "    # Siguiente iteración para cada partición\n",
    "    \n",
    "    tree['sl'] = tree_grow(X_l, y_l, level + 1, max_depth=max_depth, num_pct=num_pct)\n",
    "    tree['sr'] = tree_grow(X_r, y_r, level + 1, max_depth=max_depth, num_pct=num_pct)\n",
    "    \n",
    "    return tree\n"
   ]
  },
  {
   "cell_type": "code",
   "execution_count": 38,
   "metadata": {
    "scrolled": true
   },
   "outputs": [
    {
     "data": {
      "text/plain": [
       "{'y_pred': 191.57413191254824,\n",
       " 'level': 0,\n",
       " 'split': [1, 20.0],\n",
       " 'n_samples': 10886,\n",
       " 'mse': 11330.408548882857,\n",
       " 'sl': {'y_pred': 198.6854998896491,\n",
       "  'level': 1,\n",
       "  'split': [1, 6.0],\n",
       "  'n_samples': 9062,\n",
       "  'mse': 30682.717281236517,\n",
       "  'sl': {'y_pred': 25.177719821162444,\n",
       "   'level': 2,\n",
       "   'split': [1, 2.0],\n",
       "   'n_samples': 2684,\n",
       "   'mse': 251.38584703725883,\n",
       "   'sl': {'y_pred': 44.51045104510451,\n",
       "    'level': 3,\n",
       "    'split': -1,\n",
       "    'n_samples': 909,\n",
       "    'mse': 1750.4052518690899},\n",
       "   'sr': {'y_pred': 15.27718309859155,\n",
       "    'level': 3,\n",
       "    'split': -1,\n",
       "    'n_samples': 1775,\n",
       "    'mse': 196.7339244586522}},\n",
       "  'sr': {'y_pred': 271.7013170272813,\n",
       "   'level': 2,\n",
       "   'split': [0, 3.0],\n",
       "   'n_samples': 6378,\n",
       "   'mse': 30737.979448375765,\n",
       "   'sl': {'y_pred': 236.39736346516008,\n",
       "    'level': 3,\n",
       "    'split': -1,\n",
       "    'n_samples': 3186,\n",
       "    'mse': 30549.78766460148},\n",
       "   'sr': {'y_pred': 306.93890977443607,\n",
       "    'level': 3,\n",
       "    'split': -1,\n",
       "    'n_samples': 3192,\n",
       "    'mse': 29932.456462962706}}},\n",
       " 'sr': {'y_pred': 156.2434210526316,\n",
       "  'level': 1,\n",
       "  'split': [1, 22.0],\n",
       "  'n_samples': 1824,\n",
       "  'mse': 2850.7541103327935,\n",
       "  'sl': {'y_pred': 200.9440789473684,\n",
       "   'level': 2,\n",
       "   'split': [0, 3.0],\n",
       "   'n_samples': 912,\n",
       "   'mse': 5779.9738381040315,\n",
       "   'sl': {'y_pred': 171.56359649122808,\n",
       "    'level': 3,\n",
       "    'split': -1,\n",
       "    'n_samples': 456,\n",
       "    'mse': 7564.630922748498},\n",
       "   'sr': {'y_pred': 230.32456140350877,\n",
       "    'level': 3,\n",
       "    'split': -1,\n",
       "    'n_samples': 456,\n",
       "    'mse': 5779.9738381040315}},\n",
       "  'sr': {'y_pred': 111.54276315789474,\n",
       "   'level': 2,\n",
       "   'split': [0, 3.0],\n",
       "   'n_samples': 912,\n",
       "   'mse': 2219.7027354570637,\n",
       "   'sl': {'y_pred': 93.53070175438596,\n",
       "    'level': 3,\n",
       "    'split': -1,\n",
       "    'n_samples': 456,\n",
       "    'mse': 2766.88890711312},\n",
       "   'sr': {'y_pred': 129.5548245614035,\n",
       "    'level': 3,\n",
       "    'split': -1,\n",
       "    'n_samples': 456,\n",
       "    'mse': 2219.7027354570637}}}}"
      ]
     },
     "execution_count": 38,
     "metadata": {},
     "output_type": "execute_result"
    }
   ],
   "source": [
    "tree_grow(X_arbol, Y_arbol, level=0,max_depth=3,num_pct=5)"
   ]
  },
  {
   "cell_type": "code",
   "execution_count": 39,
   "metadata": {},
   "outputs": [],
   "source": [
    "# Se parte la muestra\n",
    "X_train, X_test, y_train, y_test = train_test_split(X_arbol, Y_arbol, test_size=0.3, random_state=42)"
   ]
  },
  {
   "cell_type": "code",
   "execution_count": 40,
   "metadata": {},
   "outputs": [
    {
     "data": {
      "text/plain": [
       "{'y_pred': 191.37034120734907,\n",
       " 'level': 0,\n",
       " 'split': [1, 21.0],\n",
       " 'n_samples': 7620,\n",
       " 'mse': 9779.799134016734,\n",
       " 'sl': {'y_pred': 199.99295352323838,\n",
       "  'level': 1,\n",
       "  'split': [1, 19.0],\n",
       "  'n_samples': 6670,\n",
       "  'mse': 18134.405271958556,\n",
       "  'sl': {'y_pred': 192.25648653115186,\n",
       "   'level': 2,\n",
       "   'split': [1, 8.0],\n",
       "   'n_samples': 6051,\n",
       "   'mse': 30934.555982005448,\n",
       "   'sl': {'y_pred': 54.60392156862745,\n",
       "    'level': 3,\n",
       "    'split': [0, 3.0],\n",
       "    'n_samples': 2550,\n",
       "    'mse': 8714.25755529411,\n",
       "    'sl': {'y_pred': 44.156,\n",
       "     'level': 4,\n",
       "     'split': [1, 1.0],\n",
       "     'n_samples': 1250,\n",
       "     'mse': 6865.668236146174,\n",
       "     'sl': {'y_pred': 42.176829268292686,\n",
       "      'level': 5,\n",
       "      'split': -1,\n",
       "      'n_samples': 164,\n",
       "      'mse': inf},\n",
       "     'sr': {'y_pred': 44.4548802946593,\n",
       "      'level': 5,\n",
       "      'split': -1,\n",
       "      'n_samples': 1086,\n",
       "      'mse': 7463.832949775382}},\n",
       "    'sr': {'y_pred': 64.65,\n",
       "     'level': 4,\n",
       "     'split': [1, 1.0],\n",
       "     'n_samples': 1300,\n",
       "     'mse': 11868.313324151362,\n",
       "     'sl': {'y_pred': 65.0920245398773,\n",
       "      'level': 5,\n",
       "      'split': -1,\n",
       "      'n_samples': 163,\n",
       "      'mse': inf},\n",
       "     'sr': {'y_pred': 64.58663148636764,\n",
       "      'level': 5,\n",
       "      'split': -1,\n",
       "      'n_samples': 1137,\n",
       "      'mse': 13346.851907391669}}},\n",
       "   'sr': {'y_pred': 292.51756640959724,\n",
       "    'level': 3,\n",
       "    'split': [0, 3.0],\n",
       "    'n_samples': 3501,\n",
       "    'mse': 31456.861908469054,\n",
       "    'sl': {'y_pred': 255.8601598173516,\n",
       "     'level': 4,\n",
       "     'split': [1, 9.0],\n",
       "     'n_samples': 1752,\n",
       "     'mse': 33273.45612094094,\n",
       "     'sl': {'y_pred': 324.04605263157896,\n",
       "      'level': 5,\n",
       "      'split': -1,\n",
       "      'n_samples': 152,\n",
       "      'mse': inf},\n",
       "     'sr': {'y_pred': 249.3825,\n",
       "      'level': 5,\n",
       "      'split': -1,\n",
       "      'n_samples': 1600,\n",
       "      'mse': 34636.200422923765}},\n",
       "    'sr': {'y_pred': 329.23785020011434,\n",
       "     'level': 4,\n",
       "     'split': [1, 10.0],\n",
       "     'n_samples': 1749,\n",
       "     'mse': 32961.87542501857,\n",
       "     'sl': {'y_pred': 334.14195583596216,\n",
       "      'level': 5,\n",
       "      'split': -1,\n",
       "      'n_samples': 317,\n",
       "      'mse': inf},\n",
       "     'sr': {'y_pred': 328.1522346368715,\n",
       "      'level': 5,\n",
       "      'split': -1,\n",
       "      'n_samples': 1432,\n",
       "      'mse': 33749.65525554447}}}},\n",
       "  'sr': {'y_pred': 275.6203554119548,\n",
       "   'level': 2,\n",
       "   'split': [0, 3.0],\n",
       "   'n_samples': 619,\n",
       "   'mse': 11350.02089995946,\n",
       "   'sl': {'y_pred': 234.19155844155844,\n",
       "    'level': 3,\n",
       "    'split': [0, 0],\n",
       "    'n_samples': 308,\n",
       "    'mse': inf,\n",
       "    'sl': {'y_pred': nan,\n",
       "     'level': 4,\n",
       "     'split': [0, 0],\n",
       "     'n_samples': 0,\n",
       "     'mse': inf,\n",
       "     'sl': {'y_pred': nan,\n",
       "      'level': 5,\n",
       "      'split': -1,\n",
       "      'n_samples': 0,\n",
       "      'mse': inf},\n",
       "     'sr': {'y_pred': nan,\n",
       "      'level': 5,\n",
       "      'split': -1,\n",
       "      'n_samples': 0,\n",
       "      'mse': inf}},\n",
       "    'sr': {'y_pred': 234.19155844155844,\n",
       "     'level': 4,\n",
       "     'split': [0, 0],\n",
       "     'n_samples': 308,\n",
       "     'mse': inf,\n",
       "     'sl': {'y_pred': nan,\n",
       "      'level': 5,\n",
       "      'split': -1,\n",
       "      'n_samples': 0,\n",
       "      'mse': inf},\n",
       "     'sr': {'y_pred': 234.19155844155844,\n",
       "      'level': 5,\n",
       "      'split': -1,\n",
       "      'n_samples': 308,\n",
       "      'mse': inf}}},\n",
       "   'sr': {'y_pred': 316.6495176848875,\n",
       "    'level': 3,\n",
       "    'split': [0, 0],\n",
       "    'n_samples': 311,\n",
       "    'mse': inf,\n",
       "    'sl': {'y_pred': nan,\n",
       "     'level': 4,\n",
       "     'split': [0, 0],\n",
       "     'n_samples': 0,\n",
       "     'mse': inf,\n",
       "     'sl': {'y_pred': nan,\n",
       "      'level': 5,\n",
       "      'split': -1,\n",
       "      'n_samples': 0,\n",
       "      'mse': inf},\n",
       "     'sr': {'y_pred': nan,\n",
       "      'level': 5,\n",
       "      'split': -1,\n",
       "      'n_samples': 0,\n",
       "      'mse': inf}},\n",
       "    'sr': {'y_pred': 316.6495176848875,\n",
       "     'level': 4,\n",
       "     'split': [0, 0],\n",
       "     'n_samples': 311,\n",
       "     'mse': inf,\n",
       "     'sl': {'y_pred': nan,\n",
       "      'level': 5,\n",
       "      'split': -1,\n",
       "      'n_samples': 0,\n",
       "      'mse': inf},\n",
       "     'sr': {'y_pred': 316.6495176848875,\n",
       "      'level': 5,\n",
       "      'split': -1,\n",
       "      'n_samples': 311,\n",
       "      'mse': inf}}}}},\n",
       " 'sr': {'y_pred': 130.83052631578948,\n",
       "  'level': 1,\n",
       "  'split': [1, 22.0],\n",
       "  'n_samples': 950,\n",
       "  'mse': 2901.8685794955095,\n",
       "  'sl': {'y_pred': 169.6156351791531,\n",
       "   'level': 2,\n",
       "   'split': [0, 3.0],\n",
       "   'n_samples': 307,\n",
       "   'mse': 3440.1237616217045,\n",
       "   'sl': {'y_pred': 144.55414012738854,\n",
       "    'level': 3,\n",
       "    'split': [0, 0],\n",
       "    'n_samples': 157,\n",
       "    'mse': inf,\n",
       "    'sl': {'y_pred': nan,\n",
       "     'level': 4,\n",
       "     'split': [0, 0],\n",
       "     'n_samples': 0,\n",
       "     'mse': inf,\n",
       "     'sl': {'y_pred': nan,\n",
       "      'level': 5,\n",
       "      'split': -1,\n",
       "      'n_samples': 0,\n",
       "      'mse': inf},\n",
       "     'sr': {'y_pred': nan,\n",
       "      'level': 5,\n",
       "      'split': -1,\n",
       "      'n_samples': 0,\n",
       "      'mse': inf}},\n",
       "    'sr': {'y_pred': 144.55414012738854,\n",
       "     'level': 4,\n",
       "     'split': [0, 0],\n",
       "     'n_samples': 157,\n",
       "     'mse': inf,\n",
       "     'sl': {'y_pred': nan,\n",
       "      'level': 5,\n",
       "      'split': -1,\n",
       "      'n_samples': 0,\n",
       "      'mse': inf},\n",
       "     'sr': {'y_pred': 144.55414012738854,\n",
       "      'level': 5,\n",
       "      'split': -1,\n",
       "      'n_samples': 157,\n",
       "      'mse': inf}}},\n",
       "   'sr': {'y_pred': 195.84666666666666,\n",
       "    'level': 3,\n",
       "    'split': [0, 0],\n",
       "    'n_samples': 150,\n",
       "    'mse': inf,\n",
       "    'sl': {'y_pred': nan,\n",
       "     'level': 4,\n",
       "     'split': [0, 0],\n",
       "     'n_samples': 0,\n",
       "     'mse': inf,\n",
       "     'sl': {'y_pred': nan,\n",
       "      'level': 5,\n",
       "      'split': -1,\n",
       "      'n_samples': 0,\n",
       "      'mse': inf},\n",
       "     'sr': {'y_pred': nan,\n",
       "      'level': 5,\n",
       "      'split': -1,\n",
       "      'n_samples': 0,\n",
       "      'mse': inf}},\n",
       "    'sr': {'y_pred': 195.84666666666666,\n",
       "     'level': 4,\n",
       "     'split': [0, 0],\n",
       "     'n_samples': 150,\n",
       "     'mse': inf,\n",
       "     'sl': {'y_pred': nan,\n",
       "      'level': 5,\n",
       "      'split': -1,\n",
       "      'n_samples': 0,\n",
       "      'mse': inf},\n",
       "     'sr': {'y_pred': 195.84666666666666,\n",
       "      'level': 5,\n",
       "      'split': -1,\n",
       "      'n_samples': 150,\n",
       "      'mse': inf}}}},\n",
       "  'sr': {'y_pred': 112.31259720062208,\n",
       "   'level': 2,\n",
       "   'split': [0, 3.0],\n",
       "   'n_samples': 643,\n",
       "   'mse': 2191.349030470914,\n",
       "   'sl': {'y_pred': 92.83018867924528,\n",
       "    'level': 3,\n",
       "    'split': [0, 0],\n",
       "    'n_samples': 318,\n",
       "    'mse': inf,\n",
       "    'sl': {'y_pred': nan,\n",
       "     'level': 4,\n",
       "     'split': [0, 0],\n",
       "     'n_samples': 0,\n",
       "     'mse': inf,\n",
       "     'sl': {'y_pred': nan,\n",
       "      'level': 5,\n",
       "      'split': -1,\n",
       "      'n_samples': 0,\n",
       "      'mse': inf},\n",
       "     'sr': {'y_pred': nan,\n",
       "      'level': 5,\n",
       "      'split': -1,\n",
       "      'n_samples': 0,\n",
       "      'mse': inf}},\n",
       "    'sr': {'y_pred': 92.83018867924528,\n",
       "     'level': 4,\n",
       "     'split': [0, 0],\n",
       "     'n_samples': 318,\n",
       "     'mse': inf,\n",
       "     'sl': {'y_pred': nan,\n",
       "      'level': 5,\n",
       "      'split': -1,\n",
       "      'n_samples': 0,\n",
       "      'mse': inf},\n",
       "     'sr': {'y_pred': 92.83018867924528,\n",
       "      'level': 5,\n",
       "      'split': -1,\n",
       "      'n_samples': 318,\n",
       "      'mse': inf}}},\n",
       "   'sr': {'y_pred': 131.3753846153846,\n",
       "    'level': 3,\n",
       "    'split': [0, 0],\n",
       "    'n_samples': 325,\n",
       "    'mse': inf,\n",
       "    'sl': {'y_pred': nan,\n",
       "     'level': 4,\n",
       "     'split': [0, 0],\n",
       "     'n_samples': 0,\n",
       "     'mse': inf,\n",
       "     'sl': {'y_pred': nan,\n",
       "      'level': 5,\n",
       "      'split': -1,\n",
       "      'n_samples': 0,\n",
       "      'mse': inf},\n",
       "     'sr': {'y_pred': nan,\n",
       "      'level': 5,\n",
       "      'split': -1,\n",
       "      'n_samples': 0,\n",
       "      'mse': inf}},\n",
       "    'sr': {'y_pred': 131.3753846153846,\n",
       "     'level': 4,\n",
       "     'split': [0, 0],\n",
       "     'n_samples': 325,\n",
       "     'mse': inf,\n",
       "     'sl': {'y_pred': nan,\n",
       "      'level': 5,\n",
       "      'split': -1,\n",
       "      'n_samples': 0,\n",
       "      'mse': inf},\n",
       "     'sr': {'y_pred': 131.3753846153846,\n",
       "      'level': 5,\n",
       "      'split': -1,\n",
       "      'n_samples': 325,\n",
       "      'mse': inf}}}}}}"
      ]
     },
     "execution_count": 40,
     "metadata": {},
     "output_type": "execute_result"
    }
   ],
   "source": [
    "tree= tree_grow(X_train, y_train, level=0,max_depth=5,num_pct=10)\n",
    "tree"
   ]
  },
  {
   "cell_type": "code",
   "execution_count": 41,
   "metadata": {},
   "outputs": [],
   "source": [
    "### Esta función permite realizar las predicciones para el arbol entrenado. \n",
    "def tree_predict(X, tree):\n",
    "    predicted = np.zeros(X.shape[0])\n",
    "\n",
    "    # Revisar si es el nodo final\n",
    "    if tree['split'] == -1:\n",
    "        predicted += tree['y_pred']\n",
    "    else:\n",
    "        j, split = tree['split']\n",
    "        filter_l = X.iloc[:, j] < split\n",
    "        X_l = X.loc[filter_l]\n",
    "        X_r = X.loc[~filter_l]\n",
    "\n",
    "        if X_l.shape[0] == 0:  \n",
    "            predicted[~filter_l] = tree_predict(X_r, tree['sr'])\n",
    "        elif X_r.shape[0] == 0:  \n",
    "            predicted[filter_l] = tree_predict(X_l, tree['sl'])\n",
    "        else:\n",
    "            predicted[filter_l] = tree_predict(X_l, tree['sl'])\n",
    "            predicted[~filter_l] = tree_predict(X_r, tree['sr'])\n",
    "\n",
    "    return predicted\n",
    "\n"
   ]
  },
  {
   "cell_type": "code",
   "execution_count": 42,
   "metadata": {},
   "outputs": [
    {
     "name": "stdout",
     "output_type": "stream",
     "text": [
      "MSE evaluado en Test: 20740.889220761343\n"
     ]
    }
   ],
   "source": [
    "# Se realizan las predicciones en la muestra de test y  se calcula el mse.\n",
    "predicciones = tree_predict(X_test, tree)\n",
    "mse_val = mean_squared_error(y_test, predicciones)\n",
    "print(\"MSE evaluado en Test:\", mse_val)"
   ]
  },
  {
   "cell_type": "markdown",
   "metadata": {},
   "source": [
    "### Punto 5 - Árbol de decisión con librería\n",
    "En la celda 5 entrene un árbol de decisiones con la **librería sklearn**, usando las variables predictoras \"season\" y \"hour\" y calibre los parámetros que considere conveniente para obtener un mejor desempeño. Recuerde dividir los datos en conjuntos de entrenamiento y validación para esto. Comente el desempeño del modelo con alguna métrica de desempeño de modelos de regresión y compare desempeño con el modelo del punto 3."
   ]
  },
  {
   "cell_type": "markdown",
   "metadata": {},
   "source": [
    "##### predicciones punto 3 Modelo de regresion"
   ]
  },
  {
   "cell_type": "code",
   "execution_count": 43,
   "metadata": {},
   "outputs": [
    {
     "name": "stdout",
     "output_type": "stream",
     "text": [
      "MSE evaluado en Test: 27062.11039530083\n"
     ]
    }
   ],
   "source": [
    "# Inicializar el modelo de regresión lineal\n",
    "linear_model = LinearRegression()\n",
    "\n",
    "# Ajustar el modelo al conjunto con todos los datos sin partir la muestra\n",
    "linear_model.fit(X_train, y_train)\n",
    "# ahora se realiza las predicciones en la muestra de test\n",
    "y_pred = linear_model.predict(X_test)\n",
    "# Calcular el error cuadrático medio en el conjunto de test\n",
    "mse_val = mean_squared_error(y_test, y_pred)\n",
    "print(\"MSE evaluado en Test:\", mse_val)"
   ]
  },
  {
   "cell_type": "markdown",
   "metadata": {},
   "source": [
    "##### Predicciones arbol de decisión calibrando el max_depth"
   ]
  },
  {
   "cell_type": "code",
   "execution_count": 44,
   "metadata": {},
   "outputs": [
    {
     "name": "stdout",
     "output_type": "stream",
     "text": [
      "Mse por cada Max Dept\n"
     ]
    },
    {
     "data": {
      "text/plain": [
       "{2: 20390.75293880017,\n",
       " 3: 18096.321227594133,\n",
       " 4: 16432.068667581527,\n",
       " 5: 15300.901195560124,\n",
       " 6: 14050.398617365507,\n",
       " 7: 13870.786495571638,\n",
       " 8: 13778.901714498801,\n",
       " 9: 13782.963350884856,\n",
       " 10: 13780.511769552142,\n",
       " 11: 13776.897591163506,\n",
       " 12: 13776.897591163506,\n",
       " 13: 13776.897591163506,\n",
       " 14: 13776.897591163506}"
      ]
     },
     "execution_count": 44,
     "metadata": {},
     "output_type": "execute_result"
    }
   ],
   "source": [
    "# Celda 5\n",
    "# Se calibrara el parametro de maxima profundidad\n",
    "tree_regressor=[]\n",
    "entrenados= []\n",
    "predicciones = []\n",
    "mse=[]\n",
    "for i in range(2, 15):\n",
    "    tree_regressor.append(DecisionTreeRegressor(max_depth=(i), min_samples_split=5, random_state=42))\n",
    "    entrenados.append(tree_regressor[i-2].fit(X_train, y_train))\n",
    "    predicciones.append(tree_regressor[i-2].predict(X_test))\n",
    "    mse.append(mean_squared_error(y_test, predicciones[i-2]))\n",
    "# Se crea un diccionario que guarda el modelo con el max_depth seleccionado y el mse obtenido en la muestra de test\n",
    "dicti={}\n",
    "for k in range(2, 15):\n",
    "    dicti[k] = mse[k-2]\n",
    "print(\"Mse por cada Max Dept\")\n",
    "dicti"
   ]
  },
  {
   "cell_type": "markdown",
   "metadata": {},
   "source": [
    "Entrenando el modelo con diferentes valores para el parametro de \"max_depth\", se encontro que el \"max_depth\" que reduce en gran medida el MSE obtenido sin aumentar considerablemente la complejidad del modelo es utilizar un arbol de decisión con maxima produndidad de 7."
   ]
  },
  {
   "cell_type": "markdown",
   "metadata": {},
   "source": [
    "Comparando el resultado del modelo de arbol de decisión con los resultados del modelo de regresión lineal, podemos determinar que el arbol de decisión tiene un mejor desempeño en la predicción del total de bicicletas rentadas utilizando unicamente como predictoras las variables de season y hour. Esto se puede concluir al comparar los valores obtenidos por la metrica del MSE, donde el arbol de decisión obtuvo un MSE de 13870.78 contra un MSE de 27062.110 que obtuvo el modelo de regresión lineal. A pesar de que el modelo de arbol de decisión obtuvo un mejor desempeño, no quiere decir que sea un buen modelo ya que obtuvo un MSE que es alto, sin embargo, se podrian incurrir en mejoras del modelo para obtener un mejor resultado tal como puede ser incluir nuevos predictores en el modelo, ya que se utilizaron unicamente 2. Otro método que se podria intentar seria ajustar otros parametros del arbol de decisión aparte del que se ajusto para este modelo."
   ]
  },
  {
   "cell_type": "markdown",
   "metadata": {},
   "source": [
    "## Parte B - Métodos de ensamblajes\n",
    "En esta parte del taller se usará el conjunto de datos de Popularidad de Noticias Online. El objetivo es predecir si la notica es popular o no, la popularidad está dada por la cantidad de reacciones en redes sociales. Para más detalles puede visitar el siguiente enlace: [datos](https://archive.ics.uci.edu/ml/datasets/online+news+popularity)."
   ]
  },
  {
   "cell_type": "markdown",
   "metadata": {},
   "source": [
    "### Datos popularidad de noticias"
   ]
  },
  {
   "cell_type": "code",
   "execution_count": 45,
   "metadata": {},
   "outputs": [
    {
     "data": {
      "text/html": [
       "<div>\n",
       "<style scoped>\n",
       "    .dataframe tbody tr th:only-of-type {\n",
       "        vertical-align: middle;\n",
       "    }\n",
       "\n",
       "    .dataframe tbody tr th {\n",
       "        vertical-align: top;\n",
       "    }\n",
       "\n",
       "    .dataframe thead th {\n",
       "        text-align: right;\n",
       "    }\n",
       "</style>\n",
       "<table border=\"1\" class=\"dataframe\">\n",
       "  <thead>\n",
       "    <tr style=\"text-align: right;\">\n",
       "      <th></th>\n",
       "      <th>url</th>\n",
       "      <th>timedelta</th>\n",
       "      <th>n_tokens_title</th>\n",
       "      <th>n_tokens_content</th>\n",
       "      <th>n_unique_tokens</th>\n",
       "      <th>n_non_stop_words</th>\n",
       "      <th>n_non_stop_unique_tokens</th>\n",
       "      <th>num_hrefs</th>\n",
       "      <th>num_self_hrefs</th>\n",
       "      <th>num_imgs</th>\n",
       "      <th>...</th>\n",
       "      <th>min_positive_polarity</th>\n",
       "      <th>max_positive_polarity</th>\n",
       "      <th>avg_negative_polarity</th>\n",
       "      <th>min_negative_polarity</th>\n",
       "      <th>max_negative_polarity</th>\n",
       "      <th>title_subjectivity</th>\n",
       "      <th>title_sentiment_polarity</th>\n",
       "      <th>abs_title_subjectivity</th>\n",
       "      <th>abs_title_sentiment_polarity</th>\n",
       "      <th>Popular</th>\n",
       "    </tr>\n",
       "  </thead>\n",
       "  <tbody>\n",
       "    <tr>\n",
       "      <th>0</th>\n",
       "      <td>http://mashable.com/2014/12/10/cia-torture-rep...</td>\n",
       "      <td>28.0</td>\n",
       "      <td>9.0</td>\n",
       "      <td>188.0</td>\n",
       "      <td>0.732620</td>\n",
       "      <td>1.0</td>\n",
       "      <td>0.844262</td>\n",
       "      <td>5.0</td>\n",
       "      <td>1.0</td>\n",
       "      <td>1.0</td>\n",
       "      <td>...</td>\n",
       "      <td>0.200000</td>\n",
       "      <td>0.80</td>\n",
       "      <td>-0.487500</td>\n",
       "      <td>-0.60</td>\n",
       "      <td>-0.250000</td>\n",
       "      <td>0.9</td>\n",
       "      <td>0.8</td>\n",
       "      <td>0.4</td>\n",
       "      <td>0.8</td>\n",
       "      <td>1</td>\n",
       "    </tr>\n",
       "    <tr>\n",
       "      <th>1</th>\n",
       "      <td>http://mashable.com/2013/10/18/bitlock-kicksta...</td>\n",
       "      <td>447.0</td>\n",
       "      <td>7.0</td>\n",
       "      <td>297.0</td>\n",
       "      <td>0.653199</td>\n",
       "      <td>1.0</td>\n",
       "      <td>0.815789</td>\n",
       "      <td>9.0</td>\n",
       "      <td>4.0</td>\n",
       "      <td>1.0</td>\n",
       "      <td>...</td>\n",
       "      <td>0.160000</td>\n",
       "      <td>0.50</td>\n",
       "      <td>-0.135340</td>\n",
       "      <td>-0.40</td>\n",
       "      <td>-0.050000</td>\n",
       "      <td>0.1</td>\n",
       "      <td>-0.1</td>\n",
       "      <td>0.4</td>\n",
       "      <td>0.1</td>\n",
       "      <td>0</td>\n",
       "    </tr>\n",
       "    <tr>\n",
       "      <th>2</th>\n",
       "      <td>http://mashable.com/2013/07/24/google-glass-po...</td>\n",
       "      <td>533.0</td>\n",
       "      <td>11.0</td>\n",
       "      <td>181.0</td>\n",
       "      <td>0.660377</td>\n",
       "      <td>1.0</td>\n",
       "      <td>0.775701</td>\n",
       "      <td>4.0</td>\n",
       "      <td>3.0</td>\n",
       "      <td>1.0</td>\n",
       "      <td>...</td>\n",
       "      <td>0.136364</td>\n",
       "      <td>1.00</td>\n",
       "      <td>0.000000</td>\n",
       "      <td>0.00</td>\n",
       "      <td>0.000000</td>\n",
       "      <td>0.3</td>\n",
       "      <td>1.0</td>\n",
       "      <td>0.2</td>\n",
       "      <td>1.0</td>\n",
       "      <td>0</td>\n",
       "    </tr>\n",
       "    <tr>\n",
       "      <th>3</th>\n",
       "      <td>http://mashable.com/2013/11/21/these-are-the-m...</td>\n",
       "      <td>413.0</td>\n",
       "      <td>12.0</td>\n",
       "      <td>781.0</td>\n",
       "      <td>0.497409</td>\n",
       "      <td>1.0</td>\n",
       "      <td>0.677350</td>\n",
       "      <td>10.0</td>\n",
       "      <td>3.0</td>\n",
       "      <td>1.0</td>\n",
       "      <td>...</td>\n",
       "      <td>0.100000</td>\n",
       "      <td>1.00</td>\n",
       "      <td>-0.195701</td>\n",
       "      <td>-0.40</td>\n",
       "      <td>-0.071429</td>\n",
       "      <td>0.0</td>\n",
       "      <td>0.0</td>\n",
       "      <td>0.5</td>\n",
       "      <td>0.0</td>\n",
       "      <td>0</td>\n",
       "    </tr>\n",
       "    <tr>\n",
       "      <th>4</th>\n",
       "      <td>http://mashable.com/2014/02/11/parking-ticket-...</td>\n",
       "      <td>331.0</td>\n",
       "      <td>8.0</td>\n",
       "      <td>177.0</td>\n",
       "      <td>0.685714</td>\n",
       "      <td>1.0</td>\n",
       "      <td>0.830357</td>\n",
       "      <td>3.0</td>\n",
       "      <td>2.0</td>\n",
       "      <td>1.0</td>\n",
       "      <td>...</td>\n",
       "      <td>0.100000</td>\n",
       "      <td>0.55</td>\n",
       "      <td>-0.175000</td>\n",
       "      <td>-0.25</td>\n",
       "      <td>-0.100000</td>\n",
       "      <td>0.0</td>\n",
       "      <td>0.0</td>\n",
       "      <td>0.5</td>\n",
       "      <td>0.0</td>\n",
       "      <td>0</td>\n",
       "    </tr>\n",
       "  </tbody>\n",
       "</table>\n",
       "<p>5 rows × 61 columns</p>\n",
       "</div>"
      ],
      "text/plain": [
       "                                                 url  timedelta  \\\n",
       "0  http://mashable.com/2014/12/10/cia-torture-rep...       28.0   \n",
       "1  http://mashable.com/2013/10/18/bitlock-kicksta...      447.0   \n",
       "2  http://mashable.com/2013/07/24/google-glass-po...      533.0   \n",
       "3  http://mashable.com/2013/11/21/these-are-the-m...      413.0   \n",
       "4  http://mashable.com/2014/02/11/parking-ticket-...      331.0   \n",
       "\n",
       "   n_tokens_title  n_tokens_content  n_unique_tokens  n_non_stop_words  \\\n",
       "0             9.0             188.0         0.732620               1.0   \n",
       "1             7.0             297.0         0.653199               1.0   \n",
       "2            11.0             181.0         0.660377               1.0   \n",
       "3            12.0             781.0         0.497409               1.0   \n",
       "4             8.0             177.0         0.685714               1.0   \n",
       "\n",
       "   n_non_stop_unique_tokens  num_hrefs  num_self_hrefs  num_imgs  ...  \\\n",
       "0                  0.844262        5.0             1.0       1.0  ...   \n",
       "1                  0.815789        9.0             4.0       1.0  ...   \n",
       "2                  0.775701        4.0             3.0       1.0  ...   \n",
       "3                  0.677350       10.0             3.0       1.0  ...   \n",
       "4                  0.830357        3.0             2.0       1.0  ...   \n",
       "\n",
       "   min_positive_polarity  max_positive_polarity  avg_negative_polarity  \\\n",
       "0               0.200000                   0.80              -0.487500   \n",
       "1               0.160000                   0.50              -0.135340   \n",
       "2               0.136364                   1.00               0.000000   \n",
       "3               0.100000                   1.00              -0.195701   \n",
       "4               0.100000                   0.55              -0.175000   \n",
       "\n",
       "   min_negative_polarity  max_negative_polarity  title_subjectivity  \\\n",
       "0                  -0.60              -0.250000                 0.9   \n",
       "1                  -0.40              -0.050000                 0.1   \n",
       "2                   0.00               0.000000                 0.3   \n",
       "3                  -0.40              -0.071429                 0.0   \n",
       "4                  -0.25              -0.100000                 0.0   \n",
       "\n",
       "   title_sentiment_polarity  abs_title_subjectivity  \\\n",
       "0                       0.8                     0.4   \n",
       "1                      -0.1                     0.4   \n",
       "2                       1.0                     0.2   \n",
       "3                       0.0                     0.5   \n",
       "4                       0.0                     0.5   \n",
       "\n",
       "   abs_title_sentiment_polarity  Popular  \n",
       "0                           0.8        1  \n",
       "1                           0.1        0  \n",
       "2                           1.0        0  \n",
       "3                           0.0        0  \n",
       "4                           0.0        0  \n",
       "\n",
       "[5 rows x 61 columns]"
      ]
     },
     "execution_count": 45,
     "metadata": {},
     "output_type": "execute_result"
    }
   ],
   "source": [
    "# Lectura de la información de archivo .csv\n",
    "df = pd.read_csv('https://raw.githubusercontent.com/davidzarruk/MIAD_ML_NLP_2023/main/datasets/mashable.csv', index_col=0)\n",
    "df.head()"
   ]
  },
  {
   "cell_type": "code",
   "execution_count": 46,
   "metadata": {},
   "outputs": [
    {
     "data": {
      "text/plain": [
       "0.5"
      ]
     },
     "execution_count": 46,
     "metadata": {},
     "output_type": "execute_result"
    }
   ],
   "source": [
    "# Definición variable de interes y variables predictoras\n",
    "X = df.drop(['url', 'Popular'], axis=1)\n",
    "y = df['Popular']\n",
    "y.mean()"
   ]
  },
  {
   "cell_type": "code",
   "execution_count": 48,
   "metadata": {},
   "outputs": [],
   "source": [
    "# División de la muestra en set de entrenamiento y prueba\n",
    "from sklearn.model_selection import train_test_split\n",
    "X_train, X_test, y_train, y_test = train_test_split(X, y, random_state=1)"
   ]
  },
  {
   "cell_type": "markdown",
   "metadata": {},
   "source": [
    "### Punto 6 - Árbol de decisión y regresión logística\n",
    "En la celda 6 construya un árbol de decisión y una regresión logística. Para el árbol calibre al menos un parámetro y evalúe el desempeño de cada modelo usando las métricas de Accuracy y F1-Score."
   ]
  },
  {
   "cell_type": "markdown",
   "metadata": {},
   "source": [
    "#### Modelo para el arbol de decisión"
   ]
  },
  {
   "cell_type": "code",
   "execution_count": 79,
   "metadata": {},
   "outputs": [
    {
     "data": {
      "image/png": "[encoded data removed]",
      "text/plain": [
       "<Figure size 900x400 with 2 Axes>"
      ]
     },
     "metadata": {},
     "output_type": "display_data"
    }
   ],
   "source": [
    "# Crear y entrenar el modelo de árbol de decisión calibrando el max_depth\n",
    "accuracy=[]\n",
    "F1= []\n",
    "for i in range(1,20):\n",
    "    tree_model = DecisionTreeClassifier(max_depth=i, random_state=1)\n",
    "    tree_model.fit(X_train, y_train)\n",
    "    prediccion = tree_model.predict(X_test)\n",
    "    accuracy.append(accuracy_score(y_test, prediccion))\n",
    "    F1.append(f1_score(y_test, prediccion))\n",
    "\n",
    "max_depth= range(1,20)\n",
    "accuracy\n",
    "F1\n",
    "import matplotlib.pyplot as plt\n",
    "\n",
    "fig, ax = plt.subplots(1, 2, figsize=(9, 4))\n",
    "\n",
    "# Gráfico para Accuracy\n",
    "ax[0].plot(max_depth, accuracy, marker='o')\n",
    "ax[0].set_xlabel('Max Depth')\n",
    "ax[0].set_ylabel('Accuracy')\n",
    "ax[0].set_title('Accuracy vs Max Depth')\n",
    "ax[0].grid(True)\n",
    "\n",
    "# Gráfico para F1 Score\n",
    "ax[1].plot(max_depth, F1, marker='o')\n",
    "ax[1].set_xlabel('Max Depth')\n",
    "ax[1].set_ylabel('F1 Score')\n",
    "ax[1].set_title('F1 Score vs Max Depth ')\n",
    "ax[1].grid(True)\n",
    "\n",
    "# Ajustar el espaciado entre subgráficos\n",
    "plt.tight_layout()\n",
    "\n",
    "# Mostrar la figura\n",
    "plt.show()\n"
   ]
  },
  {
   "cell_type": "code",
   "execution_count": 81,
   "metadata": {},
   "outputs": [
    {
     "name": "stdout",
     "output_type": "stream",
     "text": [
      "Accuracy del modelo con max Depth 5:0.6373333333333333\n",
      "F1-Score del modelo con max Depth 5:0.6616915422885572\n"
     ]
    }
   ],
   "source": [
    "# El modelo con mejores resultados es el que tiene un max Depth de 5.\n",
    "print(\"Accuracy del modelo con max Depth 5:\" + str(accuracy[4]))\n",
    "print(\"F1-Score del modelo con max Depth 5:\" + str(F1[4]))"
   ]
  },
  {
   "cell_type": "markdown",
   "metadata": {},
   "source": [
    "Calibrando el arbol de decisión con el max depth, se encontro que el arbol que produce los mejores resultado tanto para el accuracy como para el F1-Score es el de maxima profundidad de 5. Esto se pudo concluir comparando los graficos en el cual al seleccionar el valor de 5 se obtienen buenos resultados para ambas metricas."
   ]
  },
  {
   "cell_type": "markdown",
   "metadata": {},
   "source": [
    "##### Modelo para Regresión Logística"
   ]
  },
  {
   "cell_type": "code",
   "execution_count": 82,
   "metadata": {},
   "outputs": [
    {
     "name": "stdout",
     "output_type": "stream",
     "text": [
      "\n",
      "Desempeño del modelo de Regresión Logística:\n",
      "Accuracy: 0.614\n",
      "F1-Score: 0.6111484217595702\n"
     ]
    }
   ],
   "source": [
    "# Crear y entrenar el modelo de regresión logística\n",
    "logistica = LogisticRegression()\n",
    "logistica.fit(X_train, y_train)\n",
    "\n",
    "# Predecir en el conjunto de prueba y evaluar el desempeño\n",
    "prediccion_l = logistica.predict(X_test)\n",
    "logistica_accuracy = accuracy_score(y_test, prediccion_l)\n",
    "logistica_f1 = f1_score(y_test, prediccion_l)\n",
    "print(\"\\nDesempeño del modelo de Regresión Logística:\")\n",
    "print(\"Accuracy:\", logistica_accuracy)\n",
    "print(\"F1-Score:\", logistica_f1)"
   ]
  },
  {
   "cell_type": "markdown",
   "metadata": {},
   "source": [
    "Conclusiones: \n",
    "* El modelo de árbol de decisión supera por poco al modelo de regresión logística tanto en accuracy como en F1-Score. Lo cual sugiere que el árbol de decisión es un poco mejor en la clasificación de las noticias como populares o no populares en comparación con la regresión logística.\n",
    "* Si no se calibrara el parametro del max_depth, el modelo de regresión logistica podria llegar a tener mejores resultados si nos basamos en las metricas de accuracy y F1-Score.\n",
    "* Considero importante visualizar otras metricas para modelos de clasificación con el fin de poder analizar con mayor claridad como esta clasificando los modelos, cuales son sus ventajas en cuanto a la detección de verdaderos positivos y negativos, y como se comportan sus errores.\n"
   ]
  },
  {
   "cell_type": "markdown",
   "metadata": {},
   "source": [
    "### Punto 7 - Votación Mayoritaria\n",
    "En la celda 7 elabore un esamble con la metodología de **Votación mayoritaria** compuesto por 300 muestras bagged para cada uno de los siguientes escenarios:\n",
    "\n",
    "-100 árboles de decisión donde max_depth tome un valor de su elección\\\n",
    "-100 árboles de decisión donde min_samples_leaf tome un valor de su elección\\\n",
    "-100 regresiones logísticas\n",
    "\n",
    "Evalúe cada uno de los tres modelos de manera independiente utilizando las métricas de Accuracy y F1-Score, luego evalúe el ensamble de modelos y compare los resultados. "
   ]
  },
  {
   "cell_type": "markdown",
   "metadata": {},
   "source": [
    "#### 100 arboles de decisión con max_depth de 4\n",
    "\n"
   ]
  },
  {
   "cell_type": "code",
   "execution_count": 98,
   "metadata": {},
   "outputs": [
    {
     "name": "stdout",
     "output_type": "stream",
     "text": [
      "Accuracy Arbol Max_depth = 4:0.6546666666666666\n",
      "F1-Score Arbol Max_depth = 4:0.6518817204301075\n"
     ]
    }
   ],
   "source": [
    "bagreg_max_depth = BaggingClassifier(DecisionTreeClassifier(max_depth=4), n_estimators=100, \n",
    "                          bootstrap=True, oob_score=True, random_state=1)\n",
    "# Entrenemiento del modelo con set de entrenamiento y predicción en el set de test\n",
    "bagreg_max_depth.fit(X_train, y_train)\n",
    "y_pred_max = bagreg_max_depth.predict(X_test)\n",
    "y_pred_max\n",
    "arbol_max_depth_accuracy = accuracy_score(y_test, y_pred_max)\n",
    "arbol_max_depth_f1 = f1_score(y_test, y_pred_max)\n",
    "print(\"Accuracy Arbol Max_depth = 4:\" + str( arbol_max_depth_accuracy))\n",
    "print(\"F1-Score Arbol Max_depth = 4:\" + str( arbol_max_depth_f1))"
   ]
  },
  {
   "cell_type": "markdown",
   "metadata": {},
   "source": [
    "#### 100 arboles de decisión con min_samples_leaf de 5"
   ]
  },
  {
   "cell_type": "code",
   "execution_count": 99,
   "metadata": {},
   "outputs": [
    {
     "name": "stdout",
     "output_type": "stream",
     "text": [
      "Accuracy Arbol Max_depth = 4:0.6446666666666667\n",
      "F1-Score Arbol Max_depth = 4:0.6458471760797342\n"
     ]
    }
   ],
   "source": [
    "bagreg_min_samples = BaggingClassifier(DecisionTreeClassifier(min_samples_leaf=5), n_estimators=100, \n",
    "                          bootstrap=True, oob_score=True, random_state=1)\n",
    "# Entrenemiento del modelo con set de entrenamiento y predicción en el set de test\n",
    "bagreg_min_samples.fit(X_train, y_train)\n",
    "y_pred_min = bagreg_min_samples.predict(X_test)\n",
    "\n",
    "arbol_min_samples_accuracy = accuracy_score(y_test, y_pred_min)\n",
    "arbol_min_samples_f1 = f1_score(y_test, y_pred_min)\n",
    "print(\"Accuracy Arbol Max_depth = 4:\" + str( arbol_min_samples_accuracy))\n",
    "print(\"F1-Score Arbol Max_depth = 4:\" + str( arbol_min_samples_f1))"
   ]
  },
  {
   "cell_type": "markdown",
   "metadata": {},
   "source": [
    "#### 100 regresiones logisticas"
   ]
  },
  {
   "cell_type": "code",
   "execution_count": 100,
   "metadata": {},
   "outputs": [
    {
     "name": "stdout",
     "output_type": "stream",
     "text": [
      "Accuracy regresión logistica:0.62\n",
      "F1-Score regresión logistica:0.6159029649595688\n"
     ]
    }
   ],
   "source": [
    "log_reg_clf = BaggingClassifier(LogisticRegression(), n_estimators=100, random_state=1)\n",
    "log_reg_clf.fit(X_train,y_train)\n",
    "y_pred_log = log_reg_clf.predict(X_test)\n",
    "log_accuracy = accuracy_score(y_test, y_pred_log)\n",
    "log_f1 = f1_score(y_test, y_pred_log)\n",
    "print(\"Accuracy regresión logistica:\" + str( log_accuracy))\n",
    "print(\"F1-Score regresión logistica:\" + str( log_f1))"
   ]
  },
  {
   "cell_type": "markdown",
   "metadata": {},
   "source": [
    "#### Ensamblaje por votación Mayoritaria"
   ]
  },
  {
   "cell_type": "code",
   "execution_count": 122,
   "metadata": {},
   "outputs": [
    {
     "name": "stdout",
     "output_type": "stream",
     "text": [
      "0.654\n",
      "0.652377762893503\n"
     ]
    }
   ],
   "source": [
    "# la función moda servira para calcular el dato que mas se repite por \"fila\", es decir de las predicciones de los tres modelos escogera 1 si es el dato que mas aparece o cero de lo contrario\n",
    "from scipy.stats import mode\n",
    "# como tenemos las predicciones de los tres modelos, se procede a calcular la votación mayoritaria. \n",
    "predicciones = [y_pred_max,y_pred_min, y_pred_log]\n",
    "\n",
    "# Calcular la moda de las predicciones\n",
    "votacion_mayoritaria= mode(predicciones ,axis=0)\n",
    "moda = votacion_mayoritaria.mode\n",
    "\n",
    "# Calcular accuracy y F1-Score\n",
    "accuracy = accuracy_score(y_test, moda)\n",
    "f1 = f1_score(y_test, moda)\n",
    "\n",
    "print(accuracy)\n",
    "print(f1)"
   ]
  },
  {
   "cell_type": "markdown",
   "metadata": {},
   "source": [
    "#### Ensamblaje por votación mayoritaria Manual\n"
   ]
  },
  {
   "cell_type": "code",
   "execution_count": 37,
   "metadata": {},
   "outputs": [
    {
     "data": {
      "text/plain": [
       "300"
      ]
     },
     "execution_count": 37,
     "metadata": {},
     "output_type": "execute_result"
    }
   ],
   "source": [
    "# Creación de 300 muestras de bootstrap\n",
    "n_estimators = 300\n",
    "np.random.seed(123)\n",
    "\n",
    "n_samples = X_train.shape[0]\n",
    "samples = [np.random.choice(a=n_samples, size=n_samples, replace=True) for _ in range(n_estimators)]\n",
    "len(samples)"
   ]
  },
  {
   "cell_type": "code",
   "execution_count": 38,
   "metadata": {},
   "outputs": [
    {
     "data": {
      "text/plain": [
       "{0: DecisionTreeClassifier(max_depth=4),\n",
       " 1: DecisionTreeClassifier(max_depth=4),\n",
       " 2: DecisionTreeClassifier(max_depth=4),\n",
       " 3: DecisionTreeClassifier(max_depth=4),\n",
       " 4: DecisionTreeClassifier(max_depth=4),\n",
       " 5: DecisionTreeClassifier(max_depth=4),\n",
       " 6: DecisionTreeClassifier(max_depth=4),\n",
       " 7: DecisionTreeClassifier(max_depth=4),\n",
       " 8: DecisionTreeClassifier(max_depth=4),\n",
       " 9: DecisionTreeClassifier(max_depth=4),\n",
       " 10: DecisionTreeClassifier(max_depth=4),\n",
       " 11: DecisionTreeClassifier(max_depth=4),\n",
       " 12: DecisionTreeClassifier(max_depth=4),\n",
       " 13: DecisionTreeClassifier(max_depth=4),\n",
       " 14: DecisionTreeClassifier(max_depth=4),\n",
       " 15: DecisionTreeClassifier(max_depth=4),\n",
       " 16: DecisionTreeClassifier(max_depth=4),\n",
       " 17: DecisionTreeClassifier(max_depth=4),\n",
       " 18: DecisionTreeClassifier(max_depth=4),\n",
       " 19: DecisionTreeClassifier(max_depth=4),\n",
       " 20: DecisionTreeClassifier(max_depth=4),\n",
       " 21: DecisionTreeClassifier(max_depth=4),\n",
       " 22: DecisionTreeClassifier(max_depth=4),\n",
       " 23: DecisionTreeClassifier(max_depth=4),\n",
       " 24: DecisionTreeClassifier(max_depth=4),\n",
       " 25: DecisionTreeClassifier(max_depth=4),\n",
       " 26: DecisionTreeClassifier(max_depth=4),\n",
       " 27: DecisionTreeClassifier(max_depth=4),\n",
       " 28: DecisionTreeClassifier(max_depth=4),\n",
       " 29: DecisionTreeClassifier(max_depth=4),\n",
       " 30: DecisionTreeClassifier(max_depth=4),\n",
       " 31: DecisionTreeClassifier(max_depth=4),\n",
       " 32: DecisionTreeClassifier(max_depth=4),\n",
       " 33: DecisionTreeClassifier(max_depth=4),\n",
       " 34: DecisionTreeClassifier(max_depth=4),\n",
       " 35: DecisionTreeClassifier(max_depth=4),\n",
       " 36: DecisionTreeClassifier(max_depth=4),\n",
       " 37: DecisionTreeClassifier(max_depth=4),\n",
       " 38: DecisionTreeClassifier(max_depth=4),\n",
       " 39: DecisionTreeClassifier(max_depth=4),\n",
       " 40: DecisionTreeClassifier(max_depth=4),\n",
       " 41: DecisionTreeClassifier(max_depth=4),\n",
       " 42: DecisionTreeClassifier(max_depth=4),\n",
       " 43: DecisionTreeClassifier(max_depth=4),\n",
       " 44: DecisionTreeClassifier(max_depth=4),\n",
       " 45: DecisionTreeClassifier(max_depth=4),\n",
       " 46: DecisionTreeClassifier(max_depth=4),\n",
       " 47: DecisionTreeClassifier(max_depth=4),\n",
       " 48: DecisionTreeClassifier(max_depth=4),\n",
       " 49: DecisionTreeClassifier(max_depth=4),\n",
       " 50: DecisionTreeClassifier(max_depth=4),\n",
       " 51: DecisionTreeClassifier(max_depth=4),\n",
       " 52: DecisionTreeClassifier(max_depth=4),\n",
       " 53: DecisionTreeClassifier(max_depth=4),\n",
       " 54: DecisionTreeClassifier(max_depth=4),\n",
       " 55: DecisionTreeClassifier(max_depth=4),\n",
       " 56: DecisionTreeClassifier(max_depth=4),\n",
       " 57: DecisionTreeClassifier(max_depth=4),\n",
       " 58: DecisionTreeClassifier(max_depth=4),\n",
       " 59: DecisionTreeClassifier(max_depth=4),\n",
       " 60: DecisionTreeClassifier(max_depth=4),\n",
       " 61: DecisionTreeClassifier(max_depth=4),\n",
       " 62: DecisionTreeClassifier(max_depth=4),\n",
       " 63: DecisionTreeClassifier(max_depth=4),\n",
       " 64: DecisionTreeClassifier(max_depth=4),\n",
       " 65: DecisionTreeClassifier(max_depth=4),\n",
       " 66: DecisionTreeClassifier(max_depth=4),\n",
       " 67: DecisionTreeClassifier(max_depth=4),\n",
       " 68: DecisionTreeClassifier(max_depth=4),\n",
       " 69: DecisionTreeClassifier(max_depth=4),\n",
       " 70: DecisionTreeClassifier(max_depth=4),\n",
       " 71: DecisionTreeClassifier(max_depth=4),\n",
       " 72: DecisionTreeClassifier(max_depth=4),\n",
       " 73: DecisionTreeClassifier(max_depth=4),\n",
       " 74: DecisionTreeClassifier(max_depth=4),\n",
       " 75: DecisionTreeClassifier(max_depth=4),\n",
       " 76: DecisionTreeClassifier(max_depth=4),\n",
       " 77: DecisionTreeClassifier(max_depth=4),\n",
       " 78: DecisionTreeClassifier(max_depth=4),\n",
       " 79: DecisionTreeClassifier(max_depth=4),\n",
       " 80: DecisionTreeClassifier(max_depth=4),\n",
       " 81: DecisionTreeClassifier(max_depth=4),\n",
       " 82: DecisionTreeClassifier(max_depth=4),\n",
       " 83: DecisionTreeClassifier(max_depth=4),\n",
       " 84: DecisionTreeClassifier(max_depth=4),\n",
       " 85: DecisionTreeClassifier(max_depth=4),\n",
       " 86: DecisionTreeClassifier(max_depth=4),\n",
       " 87: DecisionTreeClassifier(max_depth=4),\n",
       " 88: DecisionTreeClassifier(max_depth=4),\n",
       " 89: DecisionTreeClassifier(max_depth=4),\n",
       " 90: DecisionTreeClassifier(max_depth=4),\n",
       " 91: DecisionTreeClassifier(max_depth=4),\n",
       " 92: DecisionTreeClassifier(max_depth=4),\n",
       " 93: DecisionTreeClassifier(max_depth=4),\n",
       " 94: DecisionTreeClassifier(max_depth=4),\n",
       " 95: DecisionTreeClassifier(max_depth=4),\n",
       " 96: DecisionTreeClassifier(max_depth=4),\n",
       " 97: DecisionTreeClassifier(max_depth=4),\n",
       " 98: DecisionTreeClassifier(max_depth=4),\n",
       " 99: DecisionTreeClassifier(max_depth=4),\n",
       " 100: DecisionTreeClassifier(min_samples_leaf=5),\n",
       " 101: DecisionTreeClassifier(min_samples_leaf=5),\n",
       " 102: DecisionTreeClassifier(min_samples_leaf=5),\n",
       " 103: DecisionTreeClassifier(min_samples_leaf=5),\n",
       " 104: DecisionTreeClassifier(min_samples_leaf=5),\n",
       " 105: DecisionTreeClassifier(min_samples_leaf=5),\n",
       " 106: DecisionTreeClassifier(min_samples_leaf=5),\n",
       " 107: DecisionTreeClassifier(min_samples_leaf=5),\n",
       " 108: DecisionTreeClassifier(min_samples_leaf=5),\n",
       " 109: DecisionTreeClassifier(min_samples_leaf=5),\n",
       " 110: DecisionTreeClassifier(min_samples_leaf=5),\n",
       " 111: DecisionTreeClassifier(min_samples_leaf=5),\n",
       " 112: DecisionTreeClassifier(min_samples_leaf=5),\n",
       " 113: DecisionTreeClassifier(min_samples_leaf=5),\n",
       " 114: DecisionTreeClassifier(min_samples_leaf=5),\n",
       " 115: DecisionTreeClassifier(min_samples_leaf=5),\n",
       " 116: DecisionTreeClassifier(min_samples_leaf=5),\n",
       " 117: DecisionTreeClassifier(min_samples_leaf=5),\n",
       " 118: DecisionTreeClassifier(min_samples_leaf=5),\n",
       " 119: DecisionTreeClassifier(min_samples_leaf=5),\n",
       " 120: DecisionTreeClassifier(min_samples_leaf=5),\n",
       " 121: DecisionTreeClassifier(min_samples_leaf=5),\n",
       " 122: DecisionTreeClassifier(min_samples_leaf=5),\n",
       " 123: DecisionTreeClassifier(min_samples_leaf=5),\n",
       " 124: DecisionTreeClassifier(min_samples_leaf=5),\n",
       " 125: DecisionTreeClassifier(min_samples_leaf=5),\n",
       " 126: DecisionTreeClassifier(min_samples_leaf=5),\n",
       " 127: DecisionTreeClassifier(min_samples_leaf=5),\n",
       " 128: DecisionTreeClassifier(min_samples_leaf=5),\n",
       " 129: DecisionTreeClassifier(min_samples_leaf=5),\n",
       " 130: DecisionTreeClassifier(min_samples_leaf=5),\n",
       " 131: DecisionTreeClassifier(min_samples_leaf=5),\n",
       " 132: DecisionTreeClassifier(min_samples_leaf=5),\n",
       " 133: DecisionTreeClassifier(min_samples_leaf=5),\n",
       " 134: DecisionTreeClassifier(min_samples_leaf=5),\n",
       " 135: DecisionTreeClassifier(min_samples_leaf=5),\n",
       " 136: DecisionTreeClassifier(min_samples_leaf=5),\n",
       " 137: DecisionTreeClassifier(min_samples_leaf=5),\n",
       " 138: DecisionTreeClassifier(min_samples_leaf=5),\n",
       " 139: DecisionTreeClassifier(min_samples_leaf=5),\n",
       " 140: DecisionTreeClassifier(min_samples_leaf=5),\n",
       " 141: DecisionTreeClassifier(min_samples_leaf=5),\n",
       " 142: DecisionTreeClassifier(min_samples_leaf=5),\n",
       " 143: DecisionTreeClassifier(min_samples_leaf=5),\n",
       " 144: DecisionTreeClassifier(min_samples_leaf=5),\n",
       " 145: DecisionTreeClassifier(min_samples_leaf=5),\n",
       " 146: DecisionTreeClassifier(min_samples_leaf=5),\n",
       " 147: DecisionTreeClassifier(min_samples_leaf=5),\n",
       " 148: DecisionTreeClassifier(min_samples_leaf=5),\n",
       " 149: DecisionTreeClassifier(min_samples_leaf=5),\n",
       " 150: DecisionTreeClassifier(min_samples_leaf=5),\n",
       " 151: DecisionTreeClassifier(min_samples_leaf=5),\n",
       " 152: DecisionTreeClassifier(min_samples_leaf=5),\n",
       " 153: DecisionTreeClassifier(min_samples_leaf=5),\n",
       " 154: DecisionTreeClassifier(min_samples_leaf=5),\n",
       " 155: DecisionTreeClassifier(min_samples_leaf=5),\n",
       " 156: DecisionTreeClassifier(min_samples_leaf=5),\n",
       " 157: DecisionTreeClassifier(min_samples_leaf=5),\n",
       " 158: DecisionTreeClassifier(min_samples_leaf=5),\n",
       " 159: DecisionTreeClassifier(min_samples_leaf=5),\n",
       " 160: DecisionTreeClassifier(min_samples_leaf=5),\n",
       " 161: DecisionTreeClassifier(min_samples_leaf=5),\n",
       " 162: DecisionTreeClassifier(min_samples_leaf=5),\n",
       " 163: DecisionTreeClassifier(min_samples_leaf=5),\n",
       " 164: DecisionTreeClassifier(min_samples_leaf=5),\n",
       " 165: DecisionTreeClassifier(min_samples_leaf=5),\n",
       " 166: DecisionTreeClassifier(min_samples_leaf=5),\n",
       " 167: DecisionTreeClassifier(min_samples_leaf=5),\n",
       " 168: DecisionTreeClassifier(min_samples_leaf=5),\n",
       " 169: DecisionTreeClassifier(min_samples_leaf=5),\n",
       " 170: DecisionTreeClassifier(min_samples_leaf=5),\n",
       " 171: DecisionTreeClassifier(min_samples_leaf=5),\n",
       " 172: DecisionTreeClassifier(min_samples_leaf=5),\n",
       " 173: DecisionTreeClassifier(min_samples_leaf=5),\n",
       " 174: DecisionTreeClassifier(min_samples_leaf=5),\n",
       " 175: DecisionTreeClassifier(min_samples_leaf=5),\n",
       " 176: DecisionTreeClassifier(min_samples_leaf=5),\n",
       " 177: DecisionTreeClassifier(min_samples_leaf=5),\n",
       " 178: DecisionTreeClassifier(min_samples_leaf=5),\n",
       " 179: DecisionTreeClassifier(min_samples_leaf=5),\n",
       " 180: DecisionTreeClassifier(min_samples_leaf=5),\n",
       " 181: DecisionTreeClassifier(min_samples_leaf=5),\n",
       " 182: DecisionTreeClassifier(min_samples_leaf=5),\n",
       " 183: DecisionTreeClassifier(min_samples_leaf=5),\n",
       " 184: DecisionTreeClassifier(min_samples_leaf=5),\n",
       " 185: DecisionTreeClassifier(min_samples_leaf=5),\n",
       " 186: DecisionTreeClassifier(min_samples_leaf=5),\n",
       " 187: DecisionTreeClassifier(min_samples_leaf=5),\n",
       " 188: DecisionTreeClassifier(min_samples_leaf=5),\n",
       " 189: DecisionTreeClassifier(min_samples_leaf=5),\n",
       " 190: DecisionTreeClassifier(min_samples_leaf=5),\n",
       " 191: DecisionTreeClassifier(min_samples_leaf=5),\n",
       " 192: DecisionTreeClassifier(min_samples_leaf=5),\n",
       " 193: DecisionTreeClassifier(min_samples_leaf=5),\n",
       " 194: DecisionTreeClassifier(min_samples_leaf=5),\n",
       " 195: DecisionTreeClassifier(min_samples_leaf=5),\n",
       " 196: DecisionTreeClassifier(min_samples_leaf=5),\n",
       " 197: DecisionTreeClassifier(min_samples_leaf=5),\n",
       " 198: DecisionTreeClassifier(min_samples_leaf=5),\n",
       " 199: DecisionTreeClassifier(min_samples_leaf=5),\n",
       " 200: LogisticRegression(),\n",
       " 201: LogisticRegression(),\n",
       " 202: LogisticRegression(),\n",
       " 203: LogisticRegression(),\n",
       " 204: LogisticRegression(),\n",
       " 205: LogisticRegression(),\n",
       " 206: LogisticRegression(),\n",
       " 207: LogisticRegression(),\n",
       " 208: LogisticRegression(),\n",
       " 209: LogisticRegression(),\n",
       " 210: LogisticRegression(),\n",
       " 211: LogisticRegression(),\n",
       " 212: LogisticRegression(),\n",
       " 213: LogisticRegression(),\n",
       " 214: LogisticRegression(),\n",
       " 215: LogisticRegression(),\n",
       " 216: LogisticRegression(),\n",
       " 217: LogisticRegression(),\n",
       " 218: LogisticRegression(),\n",
       " 219: LogisticRegression(),\n",
       " 220: LogisticRegression(),\n",
       " 221: LogisticRegression(),\n",
       " 222: LogisticRegression(),\n",
       " 223: LogisticRegression(),\n",
       " 224: LogisticRegression(),\n",
       " 225: LogisticRegression(),\n",
       " 226: LogisticRegression(),\n",
       " 227: LogisticRegression(),\n",
       " 228: LogisticRegression(),\n",
       " 229: LogisticRegression(),\n",
       " 230: LogisticRegression(),\n",
       " 231: LogisticRegression(),\n",
       " 232: LogisticRegression(),\n",
       " 233: LogisticRegression(),\n",
       " 234: LogisticRegression(),\n",
       " 235: LogisticRegression(),\n",
       " 236: LogisticRegression(),\n",
       " 237: LogisticRegression(),\n",
       " 238: LogisticRegression(),\n",
       " 239: LogisticRegression(),\n",
       " 240: LogisticRegression(),\n",
       " 241: LogisticRegression(),\n",
       " 242: LogisticRegression(),\n",
       " 243: LogisticRegression(),\n",
       " 244: LogisticRegression(),\n",
       " 245: LogisticRegression(),\n",
       " 246: LogisticRegression(),\n",
       " 247: LogisticRegression(),\n",
       " 248: LogisticRegression(),\n",
       " 249: LogisticRegression(),\n",
       " 250: LogisticRegression(),\n",
       " 251: LogisticRegression(),\n",
       " 252: LogisticRegression(),\n",
       " 253: LogisticRegression(),\n",
       " 254: LogisticRegression(),\n",
       " 255: LogisticRegression(),\n",
       " 256: LogisticRegression(),\n",
       " 257: LogisticRegression(),\n",
       " 258: LogisticRegression(),\n",
       " 259: LogisticRegression(),\n",
       " 260: LogisticRegression(),\n",
       " 261: LogisticRegression(),\n",
       " 262: LogisticRegression(),\n",
       " 263: LogisticRegression(),\n",
       " 264: LogisticRegression(),\n",
       " 265: LogisticRegression(),\n",
       " 266: LogisticRegression(),\n",
       " 267: LogisticRegression(),\n",
       " 268: LogisticRegression(),\n",
       " 269: LogisticRegression(),\n",
       " 270: LogisticRegression(),\n",
       " 271: LogisticRegression(),\n",
       " 272: LogisticRegression(),\n",
       " 273: LogisticRegression(),\n",
       " 274: LogisticRegression(),\n",
       " 275: LogisticRegression(),\n",
       " 276: LogisticRegression(),\n",
       " 277: LogisticRegression(),\n",
       " 278: LogisticRegression(),\n",
       " 279: LogisticRegression(),\n",
       " 280: LogisticRegression(),\n",
       " 281: LogisticRegression(),\n",
       " 282: LogisticRegression(),\n",
       " 283: LogisticRegression(),\n",
       " 284: LogisticRegression(),\n",
       " 285: LogisticRegression(),\n",
       " 286: LogisticRegression(),\n",
       " 287: LogisticRegression(),\n",
       " 288: LogisticRegression(),\n",
       " 289: LogisticRegression(),\n",
       " 290: LogisticRegression(),\n",
       " 291: LogisticRegression(),\n",
       " 292: LogisticRegression(),\n",
       " 293: LogisticRegression(),\n",
       " 294: LogisticRegression(),\n",
       " 295: LogisticRegression(),\n",
       " 296: LogisticRegression(),\n",
       " 297: LogisticRegression(),\n",
       " 298: LogisticRegression(),\n",
       " 299: LogisticRegression()}"
      ]
     },
     "execution_count": 38,
     "metadata": {},
     "output_type": "execute_result"
    }
   ],
   "source": [
    "np.random.seed(123) \n",
    "seeds = np.random.randint(1, 10000, size=n_estimators)\n",
    "\n",
    "modelos = {}\n",
    "for i in range(n_estimators):\n",
    "    if i < 100:\n",
    "        modelos[i] = DecisionTreeClassifier(max_depth= 4)\n",
    "        modelos[i].fit(X_train.iloc[samples[i]], y_train.iloc[samples[i]])\n",
    "    if i <200 and i >=100:\n",
    "        modelos[i] = DecisionTreeClassifier(min_samples_leaf=5)\n",
    "        modelos[i].fit(X_train.iloc[samples[i]], y_train.iloc[samples[i]])\n",
    "    if i<300 and i >=200:\n",
    "        modelos[i] = LogisticRegression()\n",
    "        modelos[i].fit(X_train.iloc[samples[i]], y_train.iloc[samples[i]])\n",
    "# Diccionario con los 300 modelos entrenados            \n",
    "modelos       "
   ]
  },
  {
   "cell_type": "code",
   "execution_count": 40,
   "metadata": {},
   "outputs": [
    {
     "data": {
      "text/html": [
       "<div>\n",
       "<style scoped>\n",
       "    .dataframe tbody tr th:only-of-type {\n",
       "        vertical-align: middle;\n",
       "    }\n",
       "\n",
       "    .dataframe tbody tr th {\n",
       "        vertical-align: top;\n",
       "    }\n",
       "\n",
       "    .dataframe thead th {\n",
       "        text-align: right;\n",
       "    }\n",
       "</style>\n",
       "<table border=\"1\" class=\"dataframe\">\n",
       "  <thead>\n",
       "    <tr style=\"text-align: right;\">\n",
       "      <th></th>\n",
       "      <th>0</th>\n",
       "      <th>1</th>\n",
       "      <th>2</th>\n",
       "      <th>3</th>\n",
       "      <th>4</th>\n",
       "      <th>5</th>\n",
       "      <th>6</th>\n",
       "      <th>7</th>\n",
       "      <th>8</th>\n",
       "      <th>9</th>\n",
       "      <th>...</th>\n",
       "      <th>290</th>\n",
       "      <th>291</th>\n",
       "      <th>292</th>\n",
       "      <th>293</th>\n",
       "      <th>294</th>\n",
       "      <th>295</th>\n",
       "      <th>296</th>\n",
       "      <th>297</th>\n",
       "      <th>298</th>\n",
       "      <th>299</th>\n",
       "    </tr>\n",
       "  </thead>\n",
       "  <tbody>\n",
       "    <tr>\n",
       "      <th>1483</th>\n",
       "      <td>1</td>\n",
       "      <td>1</td>\n",
       "      <td>1</td>\n",
       "      <td>1</td>\n",
       "      <td>1</td>\n",
       "      <td>1</td>\n",
       "      <td>1</td>\n",
       "      <td>1</td>\n",
       "      <td>1</td>\n",
       "      <td>1</td>\n",
       "      <td>...</td>\n",
       "      <td>1</td>\n",
       "      <td>1</td>\n",
       "      <td>1</td>\n",
       "      <td>1</td>\n",
       "      <td>1</td>\n",
       "      <td>1</td>\n",
       "      <td>1</td>\n",
       "      <td>1</td>\n",
       "      <td>1</td>\n",
       "      <td>1</td>\n",
       "    </tr>\n",
       "    <tr>\n",
       "      <th>2185</th>\n",
       "      <td>1</td>\n",
       "      <td>1</td>\n",
       "      <td>1</td>\n",
       "      <td>1</td>\n",
       "      <td>1</td>\n",
       "      <td>1</td>\n",
       "      <td>1</td>\n",
       "      <td>1</td>\n",
       "      <td>1</td>\n",
       "      <td>0</td>\n",
       "      <td>...</td>\n",
       "      <td>0</td>\n",
       "      <td>1</td>\n",
       "      <td>1</td>\n",
       "      <td>0</td>\n",
       "      <td>1</td>\n",
       "      <td>1</td>\n",
       "      <td>0</td>\n",
       "      <td>0</td>\n",
       "      <td>0</td>\n",
       "      <td>0</td>\n",
       "    </tr>\n",
       "    <tr>\n",
       "      <th>2520</th>\n",
       "      <td>1</td>\n",
       "      <td>1</td>\n",
       "      <td>1</td>\n",
       "      <td>1</td>\n",
       "      <td>1</td>\n",
       "      <td>1</td>\n",
       "      <td>1</td>\n",
       "      <td>1</td>\n",
       "      <td>1</td>\n",
       "      <td>1</td>\n",
       "      <td>...</td>\n",
       "      <td>1</td>\n",
       "      <td>1</td>\n",
       "      <td>1</td>\n",
       "      <td>1</td>\n",
       "      <td>1</td>\n",
       "      <td>1</td>\n",
       "      <td>1</td>\n",
       "      <td>1</td>\n",
       "      <td>1</td>\n",
       "      <td>1</td>\n",
       "    </tr>\n",
       "    <tr>\n",
       "      <th>3721</th>\n",
       "      <td>1</td>\n",
       "      <td>1</td>\n",
       "      <td>1</td>\n",
       "      <td>1</td>\n",
       "      <td>1</td>\n",
       "      <td>1</td>\n",
       "      <td>1</td>\n",
       "      <td>1</td>\n",
       "      <td>1</td>\n",
       "      <td>1</td>\n",
       "      <td>...</td>\n",
       "      <td>1</td>\n",
       "      <td>1</td>\n",
       "      <td>1</td>\n",
       "      <td>1</td>\n",
       "      <td>1</td>\n",
       "      <td>1</td>\n",
       "      <td>1</td>\n",
       "      <td>1</td>\n",
       "      <td>1</td>\n",
       "      <td>1</td>\n",
       "    </tr>\n",
       "    <tr>\n",
       "      <th>3727</th>\n",
       "      <td>0</td>\n",
       "      <td>0</td>\n",
       "      <td>0</td>\n",
       "      <td>0</td>\n",
       "      <td>0</td>\n",
       "      <td>0</td>\n",
       "      <td>0</td>\n",
       "      <td>0</td>\n",
       "      <td>0</td>\n",
       "      <td>0</td>\n",
       "      <td>...</td>\n",
       "      <td>0</td>\n",
       "      <td>0</td>\n",
       "      <td>0</td>\n",
       "      <td>0</td>\n",
       "      <td>0</td>\n",
       "      <td>0</td>\n",
       "      <td>0</td>\n",
       "      <td>0</td>\n",
       "      <td>0</td>\n",
       "      <td>0</td>\n",
       "    </tr>\n",
       "  </tbody>\n",
       "</table>\n",
       "<p>5 rows × 300 columns</p>\n",
       "</div>"
      ],
      "text/plain": [
       "      0    1    2    3    4    5    6    7    8    9    ...  290  291  292  \\\n",
       "1483    1    1    1    1    1    1    1    1    1    1  ...    1    1    1   \n",
       "2185    1    1    1    1    1    1    1    1    1    0  ...    0    1    1   \n",
       "2520    1    1    1    1    1    1    1    1    1    1  ...    1    1    1   \n",
       "3721    1    1    1    1    1    1    1    1    1    1  ...    1    1    1   \n",
       "3727    0    0    0    0    0    0    0    0    0    0  ...    0    0    0   \n",
       "\n",
       "      293  294  295  296  297  298  299  \n",
       "1483    1    1    1    1    1    1    1  \n",
       "2185    0    1    1    0    0    0    0  \n",
       "2520    1    1    1    1    1    1    1  \n",
       "3721    1    1    1    1    1    1    1  \n",
       "3727    0    0    0    0    0    0    0  \n",
       "\n",
       "[5 rows x 300 columns]"
      ]
     },
     "execution_count": 40,
     "metadata": {},
     "output_type": "execute_result"
    }
   ],
   "source": [
    "# Predicción para los datos del set de test con cada modelo\n",
    "y_pred_df = pd.DataFrame(index=X_test.index, columns=list(range(n_estimators)))\n",
    "for i in range(n_estimators):\n",
    "    y_pred_df.iloc[:, i] = modelos[i].predict(X_test)\n",
    "\n",
    "y_pred_df.head()"
   ]
  },
  {
   "cell_type": "code",
   "execution_count": 41,
   "metadata": {},
   "outputs": [
    {
     "data": {
      "text/plain": [
       "1483    276\n",
       "2185    208\n",
       "2520    248\n",
       "3721    261\n",
       "3727     32\n",
       "       ... \n",
       "3077    101\n",
       "5166     47\n",
       "2227    228\n",
       "5684     65\n",
       "1937     34\n",
       "Length: 1500, dtype: int64"
      ]
     },
     "execution_count": 41,
     "metadata": {},
     "output_type": "execute_result"
    }
   ],
   "source": [
    "# Impresión de la cantidad de modelos que predijeron 1 para 10 observaciones\n",
    "y_pred_df.sum(axis=1)"
   ]
  },
  {
   "cell_type": "code",
   "execution_count": 43,
   "metadata": {},
   "outputs": [
    {
     "data": {
      "text/plain": [
       "0.623641304347826"
      ]
     },
     "execution_count": 43,
     "metadata": {},
     "output_type": "execute_result"
    }
   ],
   "source": [
    "# Votación mayoritaria\n",
    "y_pred = (y_pred_df.sum(axis=1) >= (n_estimators / 2))\n",
    "# Desempeño al hacer votación mayoritaria\n",
    "from sklearn import metrics\n",
    "metrics.f1_score(y_pred, y_test)"
   ]
  },
  {
   "cell_type": "code",
   "execution_count": 44,
   "metadata": {},
   "outputs": [
    {
     "data": {
      "text/plain": [
       "0.6306666666666667"
      ]
     },
     "execution_count": 44,
     "metadata": {},
     "output_type": "execute_result"
    }
   ],
   "source": [
    "# Desempeño al hacer votación mayoritaria\n",
    "metrics.accuracy_score(y_pred, y_test)"
   ]
  },
  {
   "cell_type": "markdown",
   "metadata": {},
   "source": [
    "#### Conclusiones"
   ]
  },
  {
   "cell_type": "markdown",
   "metadata": {},
   "source": [
    "* Al hacer el ensamble de los 3 modelos se obtuvo un mejor resultado para las metricas de accuracy y F1-score que para los modelos de regresión logistica y de arboles de decision con min samples, pero se obtuvieron resultados muy similares a los de arbol de decisión con max_depth. La unica desventaja de hacerlo de esa manera es la forma en que se hace la votación mayoritaria ya que finalmente solo esta tomando la votación de 3 modelos lo cual puede ser algo sesgado, cuando cada modelo por si solo es un ensamble de 100 modelos.\n",
    "* Al hacer el ensamble de los 300 modelos de manera manual, se obtuvieron resultados un poco mejores en comparación del modelo de regresión lineal. Sin embargo, no se obtuvieron mejores resultados en comparación de los modelos de arbol de decisión, ni con el algoritmo de votación mayoritaria con el ensamble de los 3 modelos. \n",
    "* De este ejercicio podemos concluir que el ensamblaje por votación mayoritaria puede proporcionar una oportunidad de mejora en los modelos, que puede llevar a tener un mejor rendimiento predictivo."
   ]
  },
  {
   "cell_type": "markdown",
   "metadata": {},
   "source": [
    "### Punto 8 - Votación Ponderada\n",
    "En la celda 8 elabore un ensamble con la metodología de **Votación ponderada** compuesto por 300 muestras bagged para los mismos tres escenarios del punto 7. Evalúe los modelos utilizando las métricas de Accuracy y F1-Score"
   ]
  },
  {
   "cell_type": "code",
   "execution_count": 45,
   "metadata": {},
   "outputs": [
    {
     "data": {
      "text/plain": [
       "300"
      ]
     },
     "execution_count": 45,
     "metadata": {},
     "output_type": "execute_result"
    }
   ],
   "source": [
    "# Celda 8\n",
    "\n",
    "samples_oob = []\n",
    "# Obtención de las observaciones fuera de la bolsa \"out-of-bag\" para cada muestra\n",
    "for sample in samples:\n",
    "    samples_oob.append(sorted(set(range(n_samples)) - set(sample)))\n",
    "len(samples)"
   ]
  },
  {
   "cell_type": "code",
   "execution_count": 46,
   "metadata": {},
   "outputs": [],
   "source": [
    "# Estimación de los errores OOB para cada clasificador\n",
    "errors = np.zeros(n_estimators)\n",
    "\n",
    "for i in range(n_estimators):\n",
    "    y_pred_ = modelos[i].predict(X_train.iloc[samples_oob[i]])\n",
    "    errors[i] = 1 - metrics.accuracy_score(y_train.iloc[samples_oob[i]], y_pred_)"
   ]
  },
  {
   "cell_type": "code",
   "execution_count": 47,
   "metadata": {},
   "outputs": [
    {
     "data": {
      "text/plain": [
       "Text(0.5, 1.0, 'OOB error of each tree')"
      ]
     },
     "execution_count": 47,
     "metadata": {},
     "output_type": "execute_result"
    },
    {
     "data": {
      "image/png": "[encoded data removed]",
      "text/plain": [
       "<Figure size 640x480 with 1 Axes>"
      ]
     },
     "metadata": {},
     "output_type": "display_data"
    }
   ],
   "source": [
    "# Visualización de OOB para cada modelo\n",
    "%matplotlib inline\n",
    "import matplotlib.pyplot as plt\n",
    "plt.style.use('fivethirtyeight')\n",
    "\n",
    "plt.scatter(range(n_estimators), errors)\n",
    "plt.xlim([0, n_estimators])\n",
    "plt.title('OOB error of each tree')"
   ]
  },
  {
   "cell_type": "markdown",
   "metadata": {},
   "source": [
    "El modelo de arbol de decisión con min_samples_leaf es el que tiene errores mayores comparados con los otros dos modelos."
   ]
  },
  {
   "cell_type": "code",
   "execution_count": 50,
   "metadata": {},
   "outputs": [],
   "source": [
    "# Obtención de los pesos alpha de cada modelo de acuerdo al error OOB\n",
    "alpha = (1 - errors) / (1 - errors).sum()"
   ]
  },
  {
   "cell_type": "code",
   "execution_count": 51,
   "metadata": {},
   "outputs": [
    {
     "data": {
      "text/plain": [
       "1483    0.924428\n",
       "2185    0.695992\n",
       "2520    0.835226\n",
       "3721    0.875265\n",
       "3727    0.102009\n",
       "4524    0.739467\n",
       "234     0.064295\n",
       "4735    0.157055\n",
       "5839    0.445583\n",
       "2939    0.695266\n",
       "3053    0.867269\n",
       "867     0.828780\n",
       "276     0.864601\n",
       "5798    0.098653\n",
       "3512    0.940054\n",
       "5789    0.067343\n",
       "3198    0.833845\n",
       "5908    0.934065\n",
       "5718    0.201228\n",
       "2687    0.068001\n",
       "dtype: float64"
      ]
     },
     "execution_count": 51,
     "metadata": {},
     "output_type": "execute_result"
    }
   ],
   "source": [
    "# Ponderación de las predicciones con los pesos alpha\n",
    "weighted_sum_1 = ((y_pred_df) * alpha).sum(axis=1)\n",
    "weighted_sum_1.head(20)"
   ]
  },
  {
   "cell_type": "code",
   "execution_count": 53,
   "metadata": {},
   "outputs": [
    {
     "data": {
      "text/plain": [
       "(0.6208304969366917, 0.6286666666666667)"
      ]
     },
     "execution_count": 53,
     "metadata": {},
     "output_type": "execute_result"
    }
   ],
   "source": [
    "# Desempeño al hacer votación ponderada\n",
    "y_pred = (weighted_sum_1 >= 0.5)\n",
    "metrics.f1_score(y_pred, y_test), metrics.accuracy_score(y_pred, y_test)"
   ]
  },
  {
   "cell_type": "markdown",
   "metadata": {},
   "source": [
    "Al ejecutar la votación ponderada se obtuvo un F1-Score de 0.62083 y un Accuracy de 0.628666, rendimientos muy similares a los obtenidos por el método de ensamblaje por votación mayoritaria. De igual manera, este modelo no se mostro superior al modelo de arbol de decisión con max_depth de 5. Creeria que para tener mejores resultados se podria calibrar los parametros de cada uno de los modelos. En resumen, lo que los resultados nos demuestra es que al parecer los modelos estan prediciendo de una manera muy similar, por tanto al hacer el ensamblaje puede que no se hallan obtenido mejores resultados porque lo que aprende un modelo del otro puede ser muy poco y por tanto se siguen obteniendo resultados muy similares."
   ]
  },
  {
   "cell_type": "markdown",
   "metadata": {},
   "source": [
    "### Punto 9 - Comparación y análisis de resultados\n",
    "En la celda 9 comente sobre los resultados obtenidos con las metodologías usadas en los puntos 7 y 8, compare los resultados y enuncie posibles ventajas o desventajas de cada una de ellas."
   ]
  },
  {
   "cell_type": "markdown",
   "metadata": {},
   "source": [
    "#### Conclusiones y análisis de resultados.\n",
    "* El modelo por votación mayoritaria y por votación ponderada obtienen resultados que son muy similares y practicamente no aportaron en la mejora de las metricas del Accuracy y el F1-Score de manera significativa.\n",
    "* Las ventajas y desventajas del modelo por votación mayoritaria dependen de la cantidad de modelos que se usaran, ya que si esta cantidad de modelos es alta, la votación mayoritaria es menos sesgada a medida de que tan grande sea la cantidad de votos por la clase positiva, pero en el caso de usar pocos modelos por ejemplo 3, puede llegar a ser sesgada o se puede tener una mayor probabilidad de clasificar la clase incorrectamente. Un ejemplo de esta desventaja esta en el ensamble realizado con los 3 modelos con 100 muestras de boostrap.\n",
    "* Los resultados similares en los métodos de ensamblaje se deben principalmente a que los modelos base tienen unos rendimientos similares, por ello no se pudo ver una mejora significativa en las predicciones.\n",
    "* En cuanto al método de votación ponderada tiene como ventaja que asigna los pesos segun el rendimiento de los modelos. Por tanto un modelo con buen rendimiento tendra un mayor peso en el ensamblaje. Sin embargo, se debe tener en cuenta como asignar esos pesos, ya que una mala asignación afectaria el rendimiento del modelo de ensamblaje, por tanto es importante calibrar la asignación de estos valores."
   ]
  },
  {
   "cell_type": "code",
   "execution_count": null,
   "metadata": {},
   "outputs": [],
   "source": []
  }
 ],
 "metadata": {
  "kernelspec": {
   "display_name": "Python 3 (ipykernel)",
   "language": "python",
   "name": "python3"
  },
  "language_info": {
   "codemirror_mode": {
    "name": "ipython",
    "version": 3
   },
   "file_extension": ".py",
   "mimetype": "text/x-python",
   "name": "python",
   "nbconvert_exporter": "python",
   "pygments_lexer": "ipython3",
   "version": "3.9.13"
  }
 },
 "nbformat": 4,
 "nbformat_minor": 4
}
